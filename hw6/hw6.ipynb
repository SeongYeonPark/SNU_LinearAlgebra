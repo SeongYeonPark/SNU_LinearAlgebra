{
 "cells": [
  {
   "cell_type": "code",
   "execution_count": 1,
   "metadata": {},
   "outputs": [],
   "source": [
    "import numpy as np\n",
    "%matplotlib inline\n",
    "from matplotlib import pyplot as plt"
   ]
  },
  {
   "cell_type": "code",
   "execution_count": 2,
   "metadata": {},
   "outputs": [
    {
     "data": {
      "text/plain": [
       "array([[0.35531136, 0.34798535],\n",
       "       [0.53113553, 0.7985348 ],\n",
       "       [0.51282051, 0.56410256],\n",
       "       [0.55311355, 0.47985348],\n",
       "       [0.61172161, 0.63003663],\n",
       "       [0.79120879, 0.52747253]])"
      ]
     },
     "execution_count": 2,
     "metadata": {},
     "output_type": "execute_result"
    }
   ],
   "source": [
    "# Question 1\n",
    "\n",
    "def create_incidence_matrix(edges):\n",
    "    L = edges.shape[1]\n",
    "    N = int(np.max(edges)) + 1\n",
    "    inc = np.zeros((N, L))\n",
    "    for i in range(edges.shape[0]):\n",
    "        for j in range(L):\n",
    "            inc[edges[i][j],j] = 2 * i - 1\n",
    "    \n",
    "    return inc\n",
    "\n",
    "edges = np.array([\n",
    "    [1, 1, 1, 2, 2, 2, 2, 3, 3, 4, 5, 6, 6],\n",
    "    [3, 4, 7, 3, 5, 8, 9, 4, 5, 6, 6, 9, 10]\n",
    "]) - 1 # since computer uses 0 as first index\n",
    "\n",
    "# TODO: solve the problem!\n",
    "incidence_matrix = create_incidence_matrix(edges)\n",
    "N = 10\n",
    "K = 4\n",
    "a1 = incidence_matrix.T[:,0:N-K]\n",
    "A1 = np.vstack([np.hstack([a1, np.zeros_like(a1)]), np.hstack([np.zeros_like(a1), a1])])\n",
    "a2 = incidence_matrix.T[:,N-K:]\n",
    "A2 = np.vstack([np.hstack([a2, np.zeros_like(a2)]), np.hstack([np.zeros_like(a2), a2])])\n",
    "x1 = np.array([0, 0, 1, 1, 0, 1, 1, 0])\n",
    "b = -A2 @ x1.T\n",
    "x = np.linalg.inv(A1.T @ A1) @ (A1.T @ b)\n",
    "x.reshape(2, -1).T"
   ]
  },
  {
   "cell_type": "code",
   "execution_count": 3,
   "metadata": {},
   "outputs": [],
   "source": [
    "# Question 2\n",
    "\n",
    "def richardson_iteration(A, b):\n",
    "    x = np.random.rand(A.shape[1], 1)\n",
    "    x_save = [x] # keeps track of x, we use it later to plot the convergence\n",
    "    num_iter = 300\n",
    "    \n",
    "    for i in range(num_iter):\n",
    "        # TODO: fill!\n",
    "        x = x - A.T @ ((A @ x) - b) / np.linalg.norm(A)**2\n",
    "        x_save.append(x)\n",
    "    return x, x_save"
   ]
  },
  {
   "cell_type": "code",
   "execution_count": 4,
   "metadata": {
    "scrolled": false
   },
   "outputs": [
    {
     "name": "stderr",
     "output_type": "stream",
     "text": [
      "C:\\Users\\eagle\\anaconda3\\envs\\sypark\\lib\\site-packages\\ipykernel_launcher.py:4: FutureWarning: `rcond` parameter will change to the default of machine precision times ``max(M, N)`` where M and N are the input matrix dimensions.\n",
      "To use the future default and silence this warning we advise to pass `rcond=None`, to keep using the old, explicitly pass `rcond=-1`.\n",
      "  after removing the cwd from sys.path.\n"
     ]
    },
    {
     "data": {
      "image/png": "[encoded data removed]",
      "text/plain": [
       "<Figure size 432x288 with 1 Axes>"
      ]
     },
     "metadata": {
      "needs_background": "light"
     },
     "output_type": "display_data"
    }
   ],
   "source": [
    "m, n = 20, 10\n",
    "A = np.random.rand(m, n)\n",
    "b = np.random.rand(m, 1)\n",
    "x_hat, _, _, _ = np.linalg.lstsq(A, b) # numpy least squares\n",
    "x_iterative, x_save = richardson_iteration(A, b)\n",
    "x_hat = x_hat.reshape(1, -1)\n",
    "x_save = np.array(x_save).reshape(-1, n)\n",
    "diff = np.sum((x_save - x_hat)**2, axis=1)\n",
    "plt.plot(np.arange(diff.shape[0]), diff)\n",
    "plt.show()"
   ]
  }
 ],
 "metadata": {
  "kernelspec": {
   "display_name": "Python 3",
   "language": "python",
   "name": "python3"
  },
  "language_info": {
   "codemirror_mode": {
    "name": "ipython",
    "version": 3
   },
   "file_extension": ".py",
   "mimetype": "text/x-python",
   "name": "python",
   "nbconvert_exporter": "python",
   "pygments_lexer": "ipython3",
   "version": "3.7.7"
  }
 },
 "nbformat": 4,
 "nbformat_minor": 4
}
