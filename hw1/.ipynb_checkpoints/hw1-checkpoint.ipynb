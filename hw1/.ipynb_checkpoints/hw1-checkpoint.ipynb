{
 "cells": [
  {
   "cell_type": "code",
   "execution_count": 2,
   "metadata": {},
   "outputs": [
    {
     "name": "stdout",
     "output_type": "stream",
     "text": [
      "I love linear algebra\n"
     ]
    }
   ],
   "source": [
    "#### Problem 1 ####\n",
    "import numpy as np\n",
    "%matplotlib inline\n",
    "from matplotlib import pyplot as plt\n",
    "print('I love linear algebra')"
   ]
  },
  {
   "cell_type": "code",
   "execution_count": 8,
   "metadata": {},
   "outputs": [
    {
     "data": {
      "image/png": "[encoded data removed]",
      "text/plain": [
       "<Figure size 432x288 with 1 Axes>"
      ]
     },
     "metadata": {
      "needs_background": "light"
     },
     "output_type": "display_data"
    }
   ],
   "source": [
    "#### Problem 2 ####\n",
    "v = np.array([1., 1.])\n",
    "w = np.array([0., 2.])\n",
    "data = []\n",
    "num_points = 10000\n",
    "coeff1 = np.linspace(0, 1, num_points)\n",
    "coeff2 = 1 - coeff1\n",
    "\n",
    "data_x = coeff1 * v[0] + coeff2 * w[0]\n",
    "data_y = coeff1 * v[1] + coeff2 * w[1]\n",
    "\n",
    "plt.xlim(0,1)\n",
    "plt.ylim(0,2)\n",
    "plt.scatter(data_x, data_y, s = 0.001)\n",
    "plt.show()"
   ]
  },
  {
   "cell_type": "code",
   "execution_count": 43,
   "metadata": {},
   "outputs": [
    {
     "name": "stdout",
     "output_type": "stream",
     "text": [
      "[ 0.8660254  0.8660254  0.        -0.8660254]\n"
     ]
    }
   ],
   "source": [
    "#### Problem 3 ####\n",
    "v = np.arange(3) + 1  \n",
    "ws = np.array([\n",
    "    [0., 0., 1.],\n",
    "    [-1., 2., 2.],\n",
    "    [3, 5., 3.],\n",
    "    [4., 4., -3.]\n",
    "])\n",
    "\n",
    "v_centered = v - np.mean(v)\n",
    "v_normalized = v_centered / np.sqrt(np.sum(v_centered **2))\n",
    "\n",
    "ws_centered = ws - np.mean(ws, axis = 1).reshape(4,1)\n",
    "ws_normalized = ws_centered / np.sqrt(np.sum(ws_centered ** 2, axis = 1)).reshape(4,1)\n",
    "\n",
    "print(ws_normalized @ v_normalized)"
   ]
  },
  {
   "cell_type": "code",
   "execution_count": 53,
   "metadata": {},
   "outputs": [
    {
     "name": "stdout",
     "output_type": "stream",
     "text": [
      "6.759023816275149\n"
     ]
    }
   ],
   "source": [
    "#### Problem 4 ####\n",
    "num_years = 10\n",
    "interest_rate = 0.1\n",
    "income = np.ones(num_years)\n",
    "interest_rates = []\n",
    "\n",
    "exps = np.linspace(0, -num_years+1, num_years)\n",
    "interest_rates = (1+interest_rate)**exps\n",
    "print(sum(income * interest_rates))"
   ]
  },
  {
   "cell_type": "code",
   "execution_count": 44,
   "metadata": {},
   "outputs": [
    {
     "name": "stdout",
     "output_type": "stream",
     "text": [
      "[[0.49112099 0.49003192]\n",
      " [0.47150103 0.51879387]\n",
      " [0.48288887 0.49718657]\n",
      " ...\n",
      " [0.52862231 0.49261015]\n",
      " [0.5123041  0.51699298]\n",
      " [0.48978399 0.50557082]]\n"
     ]
    },
    {
     "data": {
      "image/png": "[encoded data removed]",
      "text/plain": [
       "<Figure size 432x288 with 1 Axes>"
      ]
     },
     "metadata": {
      "needs_background": "light"
     },
     "output_type": "display_data"
    },
    {
     "data": {
      "image/png": "[encoded data removed]",
      "text/plain": [
       "<Figure size 432x288 with 1 Axes>"
      ]
     },
     "metadata": {
      "needs_background": "light"
     },
     "output_type": "display_data"
    }
   ],
   "source": [
    "#### Problem 5 ####\n",
    "num_experiments = 10000\n",
    "num_samples = 100\n",
    "num_bins = 100\n",
    "samples = np.random.random((num_experiments, num_samples, 2))\n",
    "x_mean_data = np.mean(samples, axis = 1)[:,0]\n",
    "y_mean_data = np.mean(samples, axis = 1)[:,1]\n",
    "\n",
    "plt.hist(x_mean_data, bins = num_bins)\n",
    "plt.show()\n",
    "plt.hist(y_mean_data, bins = num_bins)\n",
    "plt.show()"
   ]
  }
 ],
 "metadata": {
  "kernelspec": {
   "display_name": "Python 3",
   "language": "python",
   "name": "python3"
  },
  "language_info": {
   "codemirror_mode": {
    "name": "ipython",
    "version": 3
   },
   "file_extension": ".py",
   "mimetype": "text/x-python",
   "name": "python",
   "nbconvert_exporter": "python",
   "pygments_lexer": "ipython3",
   "version": "3.7.7"
  }
 },
 "nbformat": 4,
 "nbformat_minor": 2
}
