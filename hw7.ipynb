{
 "cells": [
  {
   "cell_type": "code",
   "execution_count": 2,
   "metadata": {},
   "outputs": [],
   "source": [
    "import numpy as np\n",
    "%matplotlib inline\n",
    "from matplotlib import pyplot as plt"
   ]
  },
  {
   "cell_type": "markdown",
   "metadata": {},
   "source": [
    "# Linear Algebra for Electrical Engineers\n",
    "\n",
    "\n",
    "## HW07: Polynomial fitting using least squares method + $k$-fold cross validation\n",
    "\n",
    "---\n",
    "\n",
    "- In this homework, you will be aksed to implement a least squares method that fits polynomial functions to the given data points.\n",
    "\n",
    "- Since this is an integrated method that incorporates several concepts we learned throughout this course (Vandermonde matrix, Gram-Schmidt, QR factorization, and least squares),\n",
    "we provide the codes for **Gram_Schmidt** and **QR factorization**.\n",
    "\n",
    "- This HW consists of 4 problems.\n",
    "    - Problem 1. implementing Vandermonde matrix (0.1 point)\n",
    "    - Problem 2. (0.6 point)\n",
    "        - (a) implementing back-substitution (0.3 point)\n",
    "        - (b) integrating QR factorization with back-substitution (0.3 point)\n",
    "    - Problem 3. data fitting with least squares (0.2 point)\n",
    "    - Problem 4. $k$-fold cross validaton (0.1 point)\n",
    "\n",
    "- please fill out all the \n",
    "\n",
    "        # Problem #N. fill out here.\n",
    "\n",
    "    of given skeleton code.\n",
    "\n",
    "### NOTE: methods you should NOT use for this assignment:\n",
    "      np.linalg, scikit-learn()"
   ]
  },
  {
   "cell_type": "markdown",
   "metadata": {},
   "source": [
    "\n",
    "To begin, we'll use Vandermonde matrix we learned in this course (Section 6.4) to effectively express the polynomial."
   ]
  },
  {
   "cell_type": "markdown",
   "metadata": {},
   "source": [
    "## Problem 1. Implementing Vandermonde matrix (0.1 point)\n",
    "\n",
    "\n",
    "- e.g. if we're to evaluate at $4$ points $-1, 0, 0.5, 1$ for $5$ degree polynomial, the polynomial $y$ can be evalated as matrix-vector multiplication with Vandermonde matrix as\n",
    "\n",
    "\\begin{align}\n",
    "\\begin{bmatrix}\n",
    "\t\ty_1\\\\\n",
    "\t\ty_2\\\\\n",
    "\t\ty_3\\\\\n",
    "\t\ty_4\\\\\n",
    "\t\t\\end{bmatrix}=\n",
    "\t\t\\begin{bmatrix}\n",
    "\t\t\t1.0 & -1.0 & 1.0 & -1.0 & 1.0 \\\\\n",
    "\t\t\t1.0 & 0.0 & 0.0 & 0.0 & 0.0 \\\\\n",
    "\t\t\t1.0 & 0.5 & 0.25 & 0.125 & 0.0625 \\\\\n",
    "\t\t\t1.0 & 1.0 & 1.0 & 1.0 & 1.0\\\\\n",
    "\t\t\\end{bmatrix}\n",
    "\t\t\\begin{bmatrix}\n",
    "\t\tc_1\\\\\n",
    "\t\tc_2\\\\\n",
    "\t\tc_3\\\\\n",
    "\t\tc_4\\\\\n",
    "\t\tc_5\\\\\n",
    "\t\t\\end{bmatrix}\n",
    "\\end{align}\n",
    "\n",
    "- In problem 1, you're goint to implement a function of Vandermonde matrix, which will be used in forthcoming problems.\n",
    "- **NOTE**: The Vandermonde function should be 'generic'.\n",
    "- You can either implement one of the two methods. (you get full grade for just implementing one of the two.)"
   ]
  },
  {
   "cell_type": "code",
   "execution_count": 3,
   "metadata": {},
   "outputs": [],
   "source": [
    "#NOTE: choose one of the two method to implement vandermonde.\n",
    "\n",
    "# Method 2)\n",
    "def vandermonde(t, n):\n",
    "    m = len(t)\n",
    "    V = np.zeros((m,n))\n",
    "    for i in range(m):\n",
    "        for j in range(n):\n",
    "            V[i,j] = t[i] ** j\n",
    "    return V"
   ]
  },
  {
   "cell_type": "code",
   "execution_count": 4,
   "metadata": {},
   "outputs": [
    {
     "data": {
      "text/plain": [
       "array([[ 1.    , -1.    ,  1.    , -1.    ,  1.    ],\n",
       "       [ 1.    ,  0.    ,  0.    ,  0.    ,  0.    ],\n",
       "       [ 1.    ,  0.5   ,  0.25  ,  0.125 ,  0.0625],\n",
       "       [ 1.    ,  1.    ,  1.    ,  1.    ,  1.    ]])"
      ]
     },
     "execution_count": 4,
     "metadata": {},
     "output_type": "execute_result"
    }
   ],
   "source": [
    "# test your vandermonde function. \n",
    "# check if the result is the same as the sample matrix written above.\n",
    "vandermonde(np.array([-1,0,0.5,1]),5)\n"
   ]
  },
  {
   "cell_type": "markdown",
   "metadata": {},
   "source": [
    "## Problem 2. Least squares method (0.6 point total)\n",
    "\n",
    "- As we studied in this class (Section 13.1), the polynomial function can be described using Vandermonde matrix. If polynomial equation\n",
    "of degree at most $p - 1$ with the parameter $\\theta$ is\n",
    "\n",
    "\\begin{align}\n",
    "\\hat{f}(x) = \\theta_1 + \\theta_1 x + \\cdots + \\theta_p x^{p-1},\n",
    "\\end{align}\n",
    "\n",
    "- Then Vandermonde matrix can be described as \n",
    "\n",
    "\\begin{align}\n",
    "\t\t\\begin{bmatrix}\n",
    "\t\t\t1.0 & x^{(1)} & \\cdots & (x^{(1)})^{p-1} \\\\\n",
    "\t\t\t1.0 & x^{(2)} & \\cdots & (x^{(2)})^{p-1}  \\\\\n",
    "\t\t\t\\vdots & \\vdots &  & \\vdots\\\\\n",
    "\t\t\t1.0 & x^(N) & \\cdots & (x^{(N)})^{p-1}\\\\\n",
    "\t\t\\end{bmatrix}.\n",
    "\\end{align}\n",
    "\n",
    "- We'll use the Vandermonde matrix we implemented in Problem 1 to effectively describe the polynomial.\n",
    "\n",
    "\n"
   ]
  },
  {
   "cell_type": "markdown",
   "metadata": {},
   "source": [
    "We will use *Least Squares* method we learned in this course, where \n",
    "we use *QR factorization* to compute the approximate of least squares. (please refer to Chapter 12.3).\n",
    "\n",
    "As written in **Algorithm 12.1** of our textbook (pp.232), the pseudocode for the least squares method is as follows. (see also Algorithm 11.2 of pp.208)\n",
    "\n",
    "\n",
    "### Least squares via QR factorization\n",
    "\n",
    "Solving a square system of linear equations $A\\mathbf{x} = \\mathbf{b}$ where $A$ is invertible yields \n",
    "\n",
    "\\begin{aligned}\n",
    "\\mathbf{x} = A^{-1}\\mathbf{b}=R^{-1}Q^{\\top}\\mathbf{b}.\n",
    "\\end{aligned}\n",
    "\n",
    "\n",
    "This can be done in the following three steps.\n",
    "given an $m \\times n$ matrix $A$ with linearly independent columns and $m$-vector $\\mathbf{b}$,\n",
    "\n",
    "\n",
    "1. Compute QR factorization $A=QR$.\n",
    "2. Compute $Q^{\\top}\\mathbf{b}$.\n",
    "3. Solve the triangular equation $R\\hat{\\mathbf{x}}=Q^{\\top}\\mathbf{b}$. (back substitution)\n",
    "\n",
    "\n",
    "---\n",
    "\n",
    "\n",
    "Here we provide the Gram-Schmidt algorithm and QR-factorization, and you may use these methods to implement the three steps of the pseudocode.\n"
   ]
  },
  {
   "cell_type": "code",
   "execution_count": 5,
   "metadata": {},
   "outputs": [],
   "source": [
    "# This implementation is based on Algorithm 5.1 of the textbook. (pp.97)\n",
    "def gram_schmidt(a):\n",
    "    \"\"\"\n",
    "    in: a - length k list of n-dim np.arrays.\n",
    "    out: q - length k list of n-dim orthonormal np.arrays. \n",
    "    \"\"\"\n",
    "\n",
    "    q = []\n",
    "    # orthogonalization\n",
    "    for i in range(len(a)): # for i = 1, ..., k\n",
    "        q_tilde = a[i]\n",
    "        for j in range(len(q)): # for each dimension of q_tilde\n",
    "            # recursively add dot(q)\n",
    "            q_tilde = q_tilde - (np.dot(q[j], a[i]))*q[j]\n",
    "        # Test for linear dependence\n",
    "        if np.sqrt(sum(q_tilde**2)) <= 1e-10:\n",
    "            print('Vectors are linearly dependent.')\n",
    "            print('GS algorithm terminates at iteration ', i+1)\n",
    "            return q\n",
    "        #Normalization\n",
    "        else:\n",
    "            q_tilde = q_tilde / np.sqrt(sum(q_tilde**2))\n",
    "            q.append(q_tilde)\n",
    "    return q\n"
   ]
  },
  {
   "cell_type": "code",
   "execution_count": 6,
   "metadata": {},
   "outputs": [
    {
     "name": "stdout",
     "output_type": "stream",
     "text": [
      "[array([-0.5,  0.5, -0.5,  0.5]), array([0.5, 0.5, 0.5, 0.5]), array([-0.5, -0.5,  0.5,  0.5])]\n",
      "Norm of each vector: 1.0 1.0 1.0\n",
      "Are they orthogonal to each other?\n",
      "Inner product of q_1 and q_2: 0.0\n",
      "Inner product of q_2 and q_3: 0.0\n",
      "Inner product of q_3 and q_1: 0.0\n"
     ]
    }
   ],
   "source": [
    "def norm(v):\n",
    "    return np.sum(v**2)**0.5\n",
    "\n",
    "# First, check the Gram-Schmidt algorithm works.\n",
    "# We give gram_schmidt() the length k list of numpy arrays describing n-vectors.\n",
    "# Let's apply gram_schmidt() on the following three 4-vectors (pp.100).\n",
    "a = [np.array([-1, 1, -1, 1]), np.array([-1, 3, -1, 3]), np.array([1, 3, 5, 7])]\n",
    "q = gram_schmidt(a)\n",
    "# three orthonormal vectors.\n",
    "print(q)\n",
    "# check the norm of each vector.\n",
    "print(\"Norm of each vector:\", norm(q[0]), norm(q[1]), norm(q[2]))\n",
    "print(\"Are they orthogonal to each other?\")\n",
    "print(\"Inner product of q_1 and q_2:\", np.dot(q[0], q[1]))\n",
    "print(\"Inner product of q_2 and q_3:\", np.dot(q[1], q[2]))\n",
    "print(\"Inner product of q_3 and q_1:\", np.dot(q[2], q[0]))\n",
    "\n"
   ]
  },
  {
   "cell_type": "markdown",
   "metadata": {},
   "source": [
    "Our gram_schmidt works!\n",
    "Now we apply this algorithm to do QR factorization.\n",
    "\n",
    "As written in pp.190 of our textbook, we first define a matrix $A$ whose $n$ column vectors $\\mathbf{a}_1, \\cdots, \\mathbf{a}_k.$ are linearly independent $k$-vectors. Thus $A$ is $n \\times k$ matrix.\n",
    "\n",
    "Also, let matrix $Q$ be $n \\times k$ matrix with its columns $\\mathbf{q}_1, \\cdots, \\mathbf{q}_k.$ are orthonormal vectors produced by the Gram-Schmidt algorithm.\n",
    "\n",
    "Then, the relation btwn $a_i$ and $q_i$ becomes,\n",
    "\n",
    "\\begin{aligned}\n",
    "a_i = (q^{\\top}_1 a_i) + \\cdots + (q^{\\top}_{i-1} a_i) + \\| \\tilde{q}_i\\|q_i,\n",
    "\\end{aligned}\n",
    "\n",
    "where $\\tilde{q}_i$ is the vector obtained in the first step of the Gram-Schmidt algorithm, as\n",
    "\n",
    "\\begin{aligned}\n",
    "a_i = R_{1i} q_1 + \\cdots + R_{ii} q_i,\n",
    "\\end{aligned}\n",
    "\n",
    "where $R_{ij} = q^{\\top}_i a_j$ for $i < j$ and $R_{ii}=\\|\\tilde{q}_i\\|$.\n",
    "\n",
    "Defining $R_{ij} = 0$ for $i > j$, we can write the equations above in compact matrix form as \n",
    "\n",
    "\\begin{aligned}\n",
    "A = QR.\n",
    "\\end{aligned}\n",
    "\n",
    "\n",
    "\n",
    "- (different form HW6) the QR decomposition can be implemented as follows."
   ]
  },
  {
   "cell_type": "code",
   "execution_count": 7,
   "metadata": {},
   "outputs": [],
   "source": [
    "def QR_factorization(A):\n",
    "    \"\"\"\n",
    "    in: numpy array whose k columns are linearly independent.\n",
    "    \"\"\"\n",
    "    # we feed gram_schmidt() A.T since it orthonormalizes row vectors of the input array. Thus, we get transposed array whose rows are orthonormal. \n",
    "    Q_transpose = np.array(gram_schmidt(A.T))\n",
    "    R = Q_transpose @ A # since Q^T = Q^-1\n",
    "    Q = Q_transpose.T\n",
    "    return Q, R"
   ]
  },
  {
   "cell_type": "code",
   "execution_count": 8,
   "metadata": {},
   "outputs": [
    {
     "name": "stdout",
     "output_type": "stream",
     "text": [
      "[[ 1.60269743e+00 -1.99372595e+00 -4.77193806e-01 -5.41893024e-01]\n",
      " [-6.38494283e-17  1.89311811e+00 -2.72028398e-01  6.75659157e-01]\n",
      " [-8.13842332e-18 -1.05310820e-16  2.11035239e+00  6.80668460e-01]\n",
      " [ 4.13202791e-17 -1.92855351e-16  1.56975404e-16  2.53975764e+00]]\n",
      "True\n",
      "True\n"
     ]
    }
   ],
   "source": [
    "# Let's check if QR_factorization() works.\n",
    "# first create a matrix whose columns are linearly independent.\n",
    "A = np.random.normal(size = (6,4)) # (n=6, k=4)\n",
    "\n",
    "Q, R = QR_factorization(A)\n",
    "\n",
    "print(R) # we can see that R is upper triangular.\n",
    "\n",
    "print(np.allclose( Q @ R, A)) # matmul of Q and R yields A.\n",
    "\n",
    "print(np.allclose(Q.T @ Q, np.eye(4))) # matmul of Q^T Q yields I. \n"
   ]
  },
  {
   "cell_type": "markdown",
   "metadata": {},
   "source": [
    "## Problem 2a) implementing back substitution (0.3 point)\n",
    "\n",
    "In this sub problem, you will implement *back substitution* that is the last step of solving linear equation. Please refer to Chapter 11.3 (pp.207)\n",
    "\n",
    "### Back substitution\n",
    "solve a set of linear equations, $R\\mathbf{x} = \\mathbf{b}$, where $n \\times n$ matrix $R$ is upper triangular matrix with non-zero diagonal entries.\n",
    "\n",
    "\n",
    "---\n",
    "given an $n \\times n$ upper triangular matrix $R$ with nonzero diagonal entries, and an $n$-vector $\\mathbf{b}$,\n",
    "\n",
    "\\begin{aligned}\n",
    "\\text{For}~~i = n, \\cdots, 1, \\\\\n",
    "x_i = (b_i - R_{i,i+1}x_{i+1} - \\cdots - R_{i,n}x_{n})/R_{i,i}\n",
    "\\end{aligned}\n",
    "\n"
   ]
  },
  {
   "cell_type": "code",
   "execution_count": 9,
   "metadata": {},
   "outputs": [
    {
     "data": {
      "text/plain": [
       "True"
      ]
     },
     "execution_count": 9,
     "metadata": {},
     "output_type": "execute_result"
    }
   ],
   "source": [
    "def back_substitution(R, b):\n",
    "    n = R.shape[0]\n",
    "    x = np.zeros(n)\n",
    "    # iterate in a reversed order: n, ..., 1.\n",
    "    for i in range(n-1,-1,-1):\n",
    "        x[i] = b[i]\n",
    "        # recursively subtract R_{i,i+1} x_{i+1}\n",
    "        for j in range(i+1,n):# TODO: Problem2, fill in here.:\n",
    "            x[i] = x[i] - x[j] * R[i][j]# TODO: Problem2, fill in here.\n",
    "        # finally divide by R_{i,i}\n",
    "        x[i] = x[i]/R[i][i] # TODO: Problem2, fill in here.\n",
    "    return x\n",
    "\n",
    "# Let's test our algorithm.\n",
    "# create 4X4 random upper triangle matrix \n",
    "R = np.triu(np.random.random((4, 4)))\n",
    "b = np.random.random(4)\n",
    "x = back_substitution(R, b)\n",
    "\n",
    "# check if we have solved it.\n",
    "# you get a point if it returns true.\n",
    "np.allclose(R@x, b)"
   ]
  },
  {
   "cell_type": "markdown",
   "metadata": {},
   "source": [
    "Now we have all the ingredients for implementing the least squares method:\n",
    "-  Vandermonde matrix (problem 1)\n",
    "- Gram-Schmidt & QR-factorization (given)\n",
    "- back-substitution (problem 2(a))\n",
    "---\n",
    "\n",
    "Then, let's implement the least squares method.\n",
    "\n",
    "\n",
    "## Problem 2b) integrating QR factorization with back-substitution. (0.3 point)\n",
    "\n",
    "Here, we implement a function that does \n",
    "\n",
    "\\begin{aligned}\n",
    "\\mathbf{x} = A^{-1}\\mathbf{b}=R^{-1}Q^{\\top}\\mathbf{b},\n",
    "\\end{aligned}\n",
    "\n",
    "where\n",
    "\n",
    "- $A$ is $n \\times n$ square matrix that represents $n$ linear equations with $n$ variables, and invertible.\n",
    "- $\\mathbf{b}$ is $n$-vector.\n",
    "\n",
    "using the given QR_factorization() function and back_subst() we implemented.\n"
   ]
  },
  {
   "cell_type": "code",
   "execution_count": 10,
   "metadata": {},
   "outputs": [
    {
     "data": {
      "text/plain": [
       "True"
      ]
     },
     "execution_count": 10,
     "metadata": {},
     "output_type": "execute_result"
    }
   ],
   "source": [
    "\n",
    "def solve_linear_equation(A, b):\n",
    "    \"\"\"\n",
    "    in: A - numpy array that represents invertible square matrix.\n",
    "        b - numpy array representing n vector.\n",
    "    \"\"\"\n",
    "    # 1) QR factorize A.\n",
    "    Q, R = QR_factorization(A) # TODO: Problem#2, fill in here.\n",
    "    # compute Q^T b\n",
    "    b_tilde = Q.T @ b# TODO: Problem#2, fill in here.\n",
    "    # solve the triangular equation Rx = Q^T b using backsubstitution.\n",
    "    x = back_substitution(R, b_tilde)# TODO: Problem#2, fill in here.\n",
    "    return x\n",
    "\n",
    "# generate random linear equation.\n",
    "n = 10\n",
    "A = np.random.normal(size = (n, n))\n",
    "b = np.random.normal(size = n)\n",
    "x = solve_linear_equation(A, b)\n",
    "\n",
    "# reference solution\n",
    "x_ref = np.linalg.solve(A, b)\n",
    "\n",
    "# compare your method with the reference.\n",
    "# you get a point if it returns true.\n",
    "np.allclose(x, x_ref)\n",
    "\n"
   ]
  },
  {
   "cell_type": "markdown",
   "metadata": {},
   "source": [
    "## Problem 3) data fitting with least squares. (0.2 point)\n",
    "\n",
    "We investigate the polynomial fitting case (pp.255).\n",
    "\n",
    "As introduced at the beginning of Problem.2, we'll us the Vandermonde\n",
    "\n",
    "matrix of the form\n",
    "\n",
    "\\begin{align}\n",
    "\t\t\\begin{bmatrix}\n",
    "\t\t\t1.0 & x^{(1)} & \\cdots & (x^{(1)})^{p-1} \\\\\n",
    "\t\t\t1.0 & x^{(2)} & \\cdots & (x^{(2)})^{p-1}  \\\\\n",
    "\t\t\t\\vdots & \\vdots &  & \\vdots\\\\\n",
    "\t\t\t1.0 & x^{(N)} & \\cdots & (x^{(N)})^{p-1}\\\\\n",
    "\t\t\\end{bmatrix}\n",
    "\\end{align}\n",
    "\n",
    "to fit a polynomial\n",
    "\n",
    "\\begin{aligned}\n",
    "\\hat{f}(x) = \\theta_1 + \\theta_2 x + \\cdots + \\theta_p x^{p-1}.\n",
    "\\end{aligned}\n",
    "\n",
    "To begin, let's generate random data points.\n",
    "\n",
    "\n"
   ]
  },
  {
   "cell_type": "code",
   "execution_count": 11,
   "metadata": {},
   "outputs": [
    {
     "data": {
      "image/png": "[encoded data removed]",
      "text/plain": [
       "<Figure size 432x288 with 1 Axes>"
      ]
     },
     "metadata": {
      "needs_background": "light"
     },
     "output_type": "display_data"
    }
   ],
   "source": [
    "plt.ion()\n",
    "#Generate training data in the interval [-1,1]\n",
    "m = 100\n",
    "x = -1 + 2*np.random.random(m)\n",
    "y = np.power(x,3) - x + 0.4 / (1 + 25*np.power(x,2)) + 0.10*np.random.normal(size = m)\n",
    "plt.scatter(x,y)\n",
    "plt.show()"
   ]
  },
  {
   "cell_type": "markdown",
   "metadata": {},
   "source": [
    "Now, you should define a polynomial fitting solver that uses vandermonde() function and solve_linear_equation() function.\n"
   ]
  },
  {
   "cell_type": "code",
   "execution_count": 12,
   "metadata": {},
   "outputs": [
    {
     "name": "stdout",
     "output_type": "stream",
     "text": [
      "shape of vandermonde of degree 3 and 100 data points: (100, 3)\n",
      "shape of 3rd polynomial parameter: (3,)\n",
      "shape of vandermonde of degree 7 and 100 data points: (100, 7)\n",
      "shape of 7th polynomial parameter: (7,)\n",
      "shape of vandermonde of degree 11 and 100 data points: (100, 11)\n",
      "shape of 11th polynomial parameter: (11,)\n",
      "shape of vandermonde of degree 16 and 100 data points: (100, 16)\n",
      "shape of 16th polynomial parameter: (16,)\n"
     ]
    }
   ],
   "source": [
    "def solve_polynomial_fitting(x, y, degree):\n",
    "    \"\"\"\n",
    "    in: x - numpy array of data points.\n",
    "        y - numpy array of scalar function values.\n",
    "        degree - degree of polynomial.\n",
    "    out: theta tha satisfies A(theta)=y\n",
    "    \"\"\"\n",
    "    # generate the vandermonde matrix\n",
    "    A = vandermonde(x, degree) # TODO: Problem#3, fill in here.\n",
    "    print(\"shape of vandermonde of degree %d and %d data points:\" % (degree, len(x)), A.shape)\n",
    "    # we have A and b(=y), solve linear equation.\n",
    "    theta = solve_linear_equation(A, y)# TODO: Problem#3, fill in here.\n",
    "    # return fitted parameters.\n",
    "    return theta\n",
    "\n",
    "\n",
    "# check the fitting by plotting\n",
    "theta3 = solve_polynomial_fitting(x, y, degree=3)\n",
    "print(\"shape of 3rd polynomial parameter:\", theta3.shape)\n",
    "\n",
    "theta7 = solve_polynomial_fitting(x, y, degree=7)\n",
    "print(\"shape of 7th polynomial parameter:\", theta7.shape)\n",
    "\n",
    "theta11 = solve_polynomial_fitting(x, y, degree=11)\n",
    "print(\"shape of 11th polynomial parameter:\", theta11.shape)\n",
    "\n",
    "theta16 = solve_polynomial_fitting(x, y, degree=16)\n",
    "print(\"shape of 16th polynomial parameter:\", theta16.shape)\n"
   ]
  },
  {
   "cell_type": "code",
   "execution_count": 13,
   "metadata": {},
   "outputs": [
    {
     "data": {
      "image/png": "[encoded data removed]",
      "text/plain": [
       "<Figure size 432x288 with 4 Axes>"
      ]
     },
     "metadata": {
      "needs_background": "light"
     },
     "output_type": "display_data"
    }
   ],
   "source": [
    "def evaluate_polynomial_fitting(x, params):\n",
    "    # each data point x is multiplied by a set of parameters.\n",
    "    # generate vadermonde matrix of shape [N, p] (N - # of data points, p -degree of polynomials)\n",
    "    A = vandermonde(x, len(params))# TODO: Problem#3, fill in here.\n",
    "    # evaluate the function @ N data points \n",
    "    y = A @ params # TODO: Problem#3, fill in here.  # [N, p] * [p, ] -> [N,]\n",
    "    # return the evaluted value.\n",
    "    return y\n",
    "\n",
    "# plot \n",
    "x_plot = np.linspace(-1, 1, num = m)\n",
    "fig = plt.figure()\n",
    "plt.ylim(-1.0, 1.0)\n",
    "\n",
    "plt.subplot(2, 2, 1)\n",
    "plt.scatter(x, y)\n",
    "plt.plot(x_plot, evaluate_polynomial_fitting(x_plot, theta3),'r')\n",
    "plt.title('3rd polynomial')\n",
    "\n",
    "plt.subplot(2, 2, 2)\n",
    "plt.scatter(x, y)\n",
    "plt.plot(x_plot, evaluate_polynomial_fitting(x_plot, theta7),'r')\n",
    "plt.title('7th polynomial')\n",
    "\n",
    "plt.subplot(2, 2, 3)\n",
    "plt.scatter(x, y)\n",
    "plt.plot(x_plot, evaluate_polynomial_fitting(x_plot, theta11),'r')\n",
    "plt.title('11th polynomial')\n",
    "\n",
    "\n",
    "plt.subplot(2, 2, 4)\n",
    "plt.scatter(x, y)\n",
    "plt.plot(x_plot, evaluate_polynomial_fitting(x_plot, theta16),'r')\n",
    "plt.title('16th polynomial')\n",
    "\n",
    "plt.tight_layout()\n",
    "plt.show()\n"
   ]
  },
  {
   "cell_type": "markdown",
   "metadata": {},
   "source": [
    "## Problem 4) $k$-fold cross validaton (0.1 point)\n",
    "\n",
    "Cross-validaton measure the generalization ability of a model, to choose a basis function used to construct a model.\n",
    "The logic is\n",
    "\n",
    "1. divide the dataset into $k$ folds.\n",
    "2. fit the model using $1, ..., k-1$ fold.\n",
    "3. use $k$th fold as the test set.\n",
    "4. repeat this to do $k$ different evaluations.\n",
    "5. for each RMS error $\\epsilon_1, \\cdots, \\epsilon_k$, take the final error as $\\sqrt{(\\epsilon_1^2 + \\cdots + \\epsilon_k^2)/k}$.\n",
    "\n",
    "we'll apply this method to our simple $7$th polynomial data."
   ]
  },
  {
   "cell_type": "code",
   "execution_count": 14,
   "metadata": {},
   "outputs": [
    {
     "name": "stdout",
     "output_type": "stream",
     "text": [
      "shape of vandermonde of degree 7 and 66 data points: (66, 7)\n",
      "shape of vandermonde of degree 7 and 67 data points: (67, 7)\n",
      "shape of vandermonde of degree 7 and 67 data points: (67, 7)\n"
     ]
    },
    {
     "data": {
      "text/plain": [
       "<matplotlib.table.Table at 0x1d5ecf48048>"
      ]
     },
     "execution_count": 14,
     "metadata": {},
     "output_type": "execute_result"
    },
    {
     "data": {
      "image/png": "[encoded data removed]",
      "text/plain": [
       "<Figure size 432x288 with 1 Axes>"
      ]
     },
     "metadata": {
      "needs_background": "light"
     },
     "output_type": "display_data"
    }
   ],
   "source": [
    "p = 7 # degree of polynomial\n",
    "K = 3 # number of folds\n",
    "N = len(x) # number of data points\n",
    "A = vandermonde(x, p) #TODO: Problem#4, fill in here. # 7th polynomial matrix of shape [N, p]\n",
    "idx_list = np.array_split(np.random.permutation(N), K) # list of data indices for each fold.\n",
    "rms_train = np.zeros(K) # place holder for train rms error\n",
    "rms_test = np.zeros(K) # place holder for test rms error\n",
    "for k in range(K):\n",
    "    ind_test = idx_list[k] # indices for test data points of kth fold\n",
    "    # indices for train data points except kth fold. please refer to: https://numpy.org/doc/stable/reference/generated/numpy.delete.html\n",
    "    \n",
    "    ind_train = np.delete(idx_list,k,None)#TODO: Problem#4, fill in here.    \n",
    "    ind_train = np.concatenate(ind_train, axis = None)\n",
    "    theta = solve_polynomial_fitting(x[ind_train], y[ind_train], p)#TODO: Problem#4, fill in here.  # compute parameters of 7th polynomial from train set.\n",
    "    rms_train[k] = (np.sum((A[ind_train] @ theta - y[ind_train])**2) / len(ind_train))**0.5 # compute rms for train set.\n",
    "    rms_test[k] = (np.sum((A[ind_test] @ theta - y[ind_test])**2) / len(ind_test))**0.5 # compute rms for test set.\n",
    "\n",
    "rms_data = np.column_stack((np.arange(K, dtype=np.int64), rms_train, rms_test)) # create array for visualization.\n",
    "fig, ax = plt.subplots()\n",
    "# Hide axes\n",
    "ax.xaxis.set_visible(False) \n",
    "ax.yaxis.set_visible(False)\n",
    "\n",
    "rms_label = (\"fold\",\"train_rms\", \"test_rms\")\n",
    "# draw rms (train/ test) for each fold.\n",
    "ax.table(cellText=rms_data, colLabels=rms_label, loc='center')\n",
    "\n"
   ]
  },
  {
   "cell_type": "code",
   "execution_count": null,
   "metadata": {},
   "outputs": [],
   "source": []
  },
  {
   "cell_type": "code",
   "execution_count": null,
   "metadata": {},
   "outputs": [],
   "source": []
  }
 ],
 "metadata": {
  "kernelspec": {
   "display_name": "Python 3",
   "language": "python",
   "name": "python3"
  },
  "language_info": {
   "codemirror_mode": {
    "name": "ipython",
    "version": 3
   },
   "file_extension": ".py",
   "mimetype": "text/x-python",
   "name": "python",
   "nbconvert_exporter": "python",
   "pygments_lexer": "ipython3",
   "version": "3.7.7"
  }
 },
 "nbformat": 4,
 "nbformat_minor": 4
}
