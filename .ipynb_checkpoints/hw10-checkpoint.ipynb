{
 "cells": [
  {
   "cell_type": "markdown",
   "metadata": {},
   "source": [
    "# Linear Algebra for Electrical Engineers\n",
    "\n",
    "\n",
    "## HW10: Eigenvalues and Eigenvectors\n",
    "\n",
    "---\n",
    "\n",
    "- In this homework, you will be aksed to visualize the eigen analysis and conduct eigen decomposition.\n",
    "\n",
    "- Since we don't study the numerical procedure for calculating the eigen values, we won't implement the function that \n",
    "computes the eigen values and eigen vectors by our hand. Instead, we will use `np.linalg.eig()` function.\n",
    "\n",
    "- This homework mostly consists of the visualization implementation.\n",
    "\n",
    "- This HW consists of 2 problems.\n",
    "    - Problem 1. visualize the linear mapping and corresponding eigen values and vectors (0.5 point)\n",
    "    - Problem 2. implement the spectral theorem (eigen decomposition). (0.5 point)\n",
    "\n",
    "- please fill out all the \n",
    "\n",
    "        # Problem #K. fill out here.\n",
    "\n",
    "    of given skeleton code."
   ]
  },
  {
   "cell_type": "code",
   "execution_count": 1,
   "metadata": {},
   "outputs": [
    {
     "name": "stdout",
     "output_type": "stream",
     "text": [
      "Collecting sympy\n",
      "  Downloading sympy-1.7-py3-none-any.whl (5.9 MB)\n",
      "Collecting mpmath>=0.19\n",
      "  Downloading mpmath-1.1.0.tar.gz (512 kB)\n",
      "Building wheels for collected packages: mpmath\n",
      "  Building wheel for mpmath (setup.py): started\n",
      "  Building wheel for mpmath (setup.py): finished with status 'done'\n",
      "  Created wheel for mpmath: filename=mpmath-1.1.0-py3-none-any.whl size=532240 sha256=f6eaf09c938b2727788d57173214e65848a970a4c890f708c371ce5edc6cc6bc\n",
      "  Stored in directory: c:\\users\\eagle\\appdata\\local\\pip\\cache\\wheels\\e2\\46\\78\\e78f76c356bca9277368f1f97a31b37a8cb937176d9511af31\n",
      "Successfully built mpmath\n",
      "Installing collected packages: mpmath, sympy\n",
      "Successfully installed mpmath-1.1.0 sympy-1.7\n",
      "Requirement already satisfied: networkx in c:\\users\\eagle\\anaconda3\\envs\\sypark\\lib\\site-packages (2.5)\n",
      "Requirement already satisfied: decorator>=4.3.0 in c:\\users\\eagle\\anaconda3\\envs\\sypark\\lib\\site-packages (from networkx) (4.4.2)\n"
     ]
    }
   ],
   "source": [
    "import numpy as np\n",
    "import numpy.linalg as npl\n",
    "import matplotlib.pyplot as plt\n",
    "import itertools as it\n",
    "from matplotlib.pyplot import figure\n",
    "# install relevant python packages.\n",
    "!pip install sympy\n",
    "!pip install networkx\n",
    "from sympy import *\n",
    "from sympy.abc import x\n",
    "import networkx as nx\n",
    "from IPython.core.interactiveshell import InteractiveShell\n",
    "from mpl_toolkits.mplot3d import Axes3D\n",
    "from matplotlib import cm\n",
    "import random\n",
    "from scipy.io import loadmat\n",
    "import scipy.linalg as spl\n",
    "import PIL\n",
    "from PIL import Image"
   ]
  },
  {
   "cell_type": "code",
   "execution_count": 2,
   "metadata": {},
   "outputs": [],
   "source": [
    "InteractiveShell.ast_node_interactivity = \"all\"\n",
    "plt.rcParams[ \"figure.figsize\" ] = (10, 10)\n",
    "# set the 2D and 3D origin of the plots.\n",
    "origin2D = np.vstack([0, 0])\n",
    "origin3D = np.vstack([0, 0, 0])\n",
    "scale = 10"
   ]
  },
  {
   "cell_type": "markdown",
   "metadata": {},
   "source": [
    "## Problem 1). Eigenvalues and Eigenvectors (0.5 point)\n",
    "---\n",
    "\n",
    "*$\\lambda$ is an eigenvalue, and $x$ is an eigenvector of some matrix $A$, if $\\lambda x = Ax$, meaning that $(A-\\lambda I)x = 0$, and by definition an eigenvector is $\\neq 0$, thus the null space of $A-\\lambda I$ contains more than just 0, meaning it is not invertible and it's determinant is 0.*\n",
    "*Provides general eigenvalue example for the identity matrix as it relates to properties of eigenvalues.*\n",
    "### Computing Eigenvalues, Eigenvectors and Eigenspaces."
   ]
  },
  {
   "cell_type": "code",
   "execution_count": 3,
   "metadata": {},
   "outputs": [
    {
     "data": {
      "text/latex": [
       "$\\displaystyle \\left[\\begin{matrix}4 & 2\\\\1 & 3\\end{matrix}\\right]$"
      ],
      "text/plain": [
       "Matrix([\n",
       "[4, 2],\n",
       "[1, 3]])"
      ]
     },
     "execution_count": 3,
     "metadata": {},
     "output_type": "execute_result"
    }
   ],
   "source": [
    "A = np.vstack([[4, 2], \n",
    "            [1, 3]])\n",
    "\n",
    "\n",
    "Matrix(A)"
   ]
  },
  {
   "cell_type": "code",
   "execution_count": 4,
   "metadata": {},
   "outputs": [
    {
     "data": {
      "text/latex": [
       "$\\displaystyle \\left[\\begin{matrix}4 - lam & 2\\\\1 & 3 - lam\\end{matrix}\\right]$"
      ],
      "text/plain": [
       "Matrix([\n",
       "[4 - lam,       2],\n",
       "[      1, 3 - lam]])"
      ]
     },
     "execution_count": 4,
     "metadata": {},
     "output_type": "execute_result"
    }
   ],
   "source": [
    "x = Symbol('lam')\n",
    "# define a lambda function that creates an vector from eigenvalue in eigenspace.\n",
    "Matrix(A - np.vstack([[x, 0],\n",
    "                        [0, x]]))"
   ]
  },
  {
   "cell_type": "markdown",
   "metadata": {},
   "source": [
    "The determinant of the above can be solved using ad-bc, which in the expanded and factorized version of the above case yields $(2-\\lambda)(5-\\lambda)$, meaning there are two eigenvalues: 2 and 5. To find the eigenvector spaces, we plug in each lambda into both eigenvalue positions and solve homogenous systems of equations."
   ]
  },
  {
   "cell_type": "markdown",
   "metadata": {},
   "source": [
    "Let's check the eigen values and corresponding eigen vectors."
   ]
  },
  {
   "cell_type": "code",
   "execution_count": 5,
   "metadata": {},
   "outputs": [
    {
     "name": "stdout",
     "output_type": "stream",
     "text": [
      "Eigen values are:  [5. 2.]\n",
      "Eigvec1:  [0.89442719 0.4472136 ]\n",
      "Eigvec2:  [-0.70710678  0.70710678]\n"
     ]
    }
   ],
   "source": [
    "eigval, eigvec = npl.eig(A)\n",
    "# column of eigen vector (i.e. eigvec[:, i]) corresponds to the eigenvalue eigval[i].\n",
    "\n",
    "eigvec_1 = eigvec[:, 0]\n",
    "eigvec_2 = eigvec[:, 1]\n",
    "\n",
    "print(\"Eigen values are: \", eigval)\n",
    "print(\"Eigvec1: \", eigvec_1)\n",
    "print(\"Eigvec2: \", eigvec_2)"
   ]
  },
  {
   "cell_type": "markdown",
   "metadata": {},
   "source": [
    "We can visualize above eigen vectors as spans of corresponding eigenspaces using the following."
   ]
  },
  {
   "cell_type": "code",
   "execution_count": 7,
   "metadata": {},
   "outputs": [
    {
     "data": {
      "text/plain": [
       "(-7.5, 7.5, -7.5, 7.5)"
      ]
     },
     "execution_count": 7,
     "metadata": {},
     "output_type": "execute_result"
    },
    {
     "data": {
      "text/plain": [
       "Text(0.5, 1.0, \"Black column vectors of A, and each red and blue is the span of it's eigenvectors.\")"
      ]
     },
     "execution_count": 7,
     "metadata": {},
     "output_type": "execute_result"
    },
    {
     "data": {
      "text/plain": [
       "<matplotlib.quiver.Quiver at 0x2382b215a48>"
      ]
     },
     "execution_count": 7,
     "metadata": {},
     "output_type": "execute_result"
    },
    {
     "data": {
      "text/plain": [
       "<matplotlib.quiver.Quiver at 0x2382b599288>"
      ]
     },
     "execution_count": 7,
     "metadata": {},
     "output_type": "execute_result"
    },
    {
     "name": "stdout",
     "output_type": "stream",
     "text": [
      "eigenvalue 1 5.0\n",
      "The eigensapce of  5.0 is the span of the eigenvector: [0.89442719 0.4472136 ]\n",
      "eigenvalue 2 2.0\n",
      "The eigensapce of  2.0 is the span of the eigenvector: [-0.70710678  0.70710678]\n"
     ]
    },
    {
     "data": {
      "text/plain": [
       "<matplotlib.quiver.Quiver at 0x2382b5c0f88>"
      ]
     },
     "execution_count": 7,
     "metadata": {},
     "output_type": "execute_result"
    },
    {
     "data": {
      "text/plain": [
       "<matplotlib.quiver.Quiver at 0x2382b5c5ac8>"
      ]
     },
     "execution_count": 7,
     "metadata": {},
     "output_type": "execute_result"
    },
    {
     "data": {
      "text/plain": [
       "<matplotlib.quiver.Quiver at 0x2382b5c7f08>"
      ]
     },
     "execution_count": 7,
     "metadata": {},
     "output_type": "execute_result"
    },
    {
     "data": {
      "text/plain": [
       "<matplotlib.quiver.Quiver at 0x2382b5c9b88>"
      ]
     },
     "execution_count": 7,
     "metadata": {},
     "output_type": "execute_result"
    },
    {
     "data": {
      "image/png": "[encoded data removed]",
      "text/plain": [
       "<Figure size 720x720 with 1 Axes>"
      ]
     },
     "metadata": {
      "needs_background": "light"
     },
     "output_type": "display_data"
    }
   ],
   "source": [
    "# Figure setup.\n",
    "scale = 15\n",
    "plt.axis([-scale/2, scale/2, -scale/2, scale/2])\n",
    "plt.title(\"Black column vectors of A, and each red and blue is the span of it's eigenvectors.\")\n",
    "\n",
    "plt.quiver(*origin2D, *A[:, 0], scale=scale)\n",
    "plt.quiver(*origin2D, *A[:, 1], scale=scale)\n",
    "# Figure setup.\n",
    "\n",
    "# # Eigenvalues in descending order.\n",
    "lam1, lam2 = eigval\n",
    "print(\"eigenvalue 1\", lam1)\n",
    "print(\"The eigensapce of \", lam1, \"is the span of the eigenvector:\", eigvec_1)\n",
    "\n",
    "print(\"eigenvalue 2\", lam2)\n",
    "print(\"The eigensapce of \", lam2, \"is the span of the eigenvector:\", eigvec_2)\n",
    "\n",
    "# plot the span of each eigenvector.\n",
    "# for example, you can visualize the positive ray of the first eigenvector in a red color as  \n",
    "plt.quiver(*origin2D, *eigvec_1 * 100, width = .005, scale=scale, color = \"red\") \n",
    "\n",
    "# now, let's plot the other direction\n",
    "plt.quiver(*origin2D, *eigvec_1 * -100, width = .005, scale=scale, color = \"red\") \n",
    "\n",
    "# now, let's plot the other eigenvector in a blue color\n",
    "plt.quiver(*origin2D, *eigvec_2 * 100, width = .005, scale=scale, color = \"blue\") \n",
    "plt.quiver(*origin2D, *eigvec_2 * -100, width = .005, scale=scale, color = \"blue\") "
   ]
  },
  {
   "cell_type": "markdown",
   "metadata": {},
   "source": [
    "### Algebraic and geometric multiplicity.\n",
    "*Shows the difference between algebraic and geometric multiplicity, in that a matrix may have two repeated eigenvalues that equal a number, but only one distinct unit eigenvector.*"
   ]
  },
  {
   "cell_type": "code",
   "execution_count": 8,
   "metadata": {},
   "outputs": [
    {
     "data": {
      "text/plain": [
       "(array([2., 2.]),\n",
       " array([[ 1.0000000e+00, -1.0000000e+00],\n",
       "        [ 0.0000000e+00,  4.4408921e-16]]))"
      ]
     },
     "execution_count": 8,
     "metadata": {},
     "output_type": "execute_result"
    }
   ],
   "source": [
    "A = np.vstack([\n",
    "                [2, 1],\n",
    "                [0, 2]\n",
    "            ])\n",
    "npl.eig(A)"
   ]
  },
  {
   "cell_type": "markdown",
   "metadata": {},
   "source": [
    "Numpy shows the eigenvalues are 2 and 2, while the eigenvectors are $[1,0],[-1,0]$."
   ]
  },
  {
   "cell_type": "markdown",
   "metadata": {},
   "source": [
    "### Now, let's check the eigenvalues and eigenvectors of some representative linear transformations.\n",
    "\n",
    "\n",
    "#### Visualizing Eigenspaces.\n",
    "*Overview of five linear mappings and their associated transformation matrices $A_i \\in \\mathbb{R}^{2\\times 2}$ projecting 400 color-coded points $x \\in \\mathbb{R}^2$ (left column) onto target points $A_ix$ (right column). The central column depicts the first eigenvector, stretched by its associated eigenvalue $\\lambda_1$, and the second eigenvector stretched by its eigenvalue $\\lambda_2$. Each row depicts the effect of one of five transformation matrices $A_i$ with respect to the standard basis.*"
   ]
  },
  {
   "cell_type": "code",
   "execution_count": 9,
   "metadata": {},
   "outputs": [
    {
     "name": "stdout",
     "output_type": "stream",
     "text": [
      "----- Shape of the data -----\n",
      "(400, 2)\n"
     ]
    }
   ],
   "source": [
    "# Initializing data.\n",
    "scale = 7\n",
    "# generate 400 data points x in R^2\n",
    "data = np.linspace(-1, 1, 20)\n",
    "# data in the original space R^2\n",
    "original = np.vstack([[i, j] for i in data for j in data])\n",
    "print(\"----- Shape of the data -----\")\n",
    "print(original.shape)\n",
    "\n",
    "# gradually change the colors of each datapoint.\n",
    "colors = np.vstack([[i, 0, j] for i in np.linspace(0, 1, 20) for j in np.linspace(1, 0, 20)])\n",
    "# Initializing data."
   ]
  },
  {
   "cell_type": "code",
   "execution_count": 23,
   "metadata": {},
   "outputs": [
    {
     "name": "stdout",
     "output_type": "stream",
     "text": [
      "----- Original data for 3 datapoints -----\n"
     ]
    },
    {
     "data": {
      "text/latex": [
       "$\\displaystyle \\left[\\begin{matrix}-1.0 & -1.0\\\\-1.0 & -0.894736842105263\\\\-1.0 & -0.789473684210526\\end{matrix}\\right]$"
      ],
      "text/plain": [
       "Matrix([\n",
       "[-1.0,               -1.0],\n",
       "[-1.0, -0.894736842105263],\n",
       "[-1.0, -0.789473684210526]])"
      ]
     },
     "execution_count": 23,
     "metadata": {},
     "output_type": "execute_result"
    },
    {
     "name": "stdout",
     "output_type": "stream",
     "text": [
      "----- Transformation matrix A -----\n"
     ]
    },
    {
     "data": {
      "text/latex": [
       "$\\displaystyle \\left[\\begin{matrix}0.5 & 0.0\\\\0.0 & 2.0\\end{matrix}\\right]$"
      ],
      "text/plain": [
       "Matrix([\n",
       "[0.5, 0.0],\n",
       "[0.0, 2.0]])"
      ]
     },
     "execution_count": 23,
     "metadata": {},
     "output_type": "execute_result"
    },
    {
     "name": "stdout",
     "output_type": "stream",
     "text": [
      "----- Eigenvalues of A -----\n"
     ]
    },
    {
     "data": {
      "text/latex": [
       "$\\displaystyle \\left[\\begin{matrix}0.5\\\\2.0\\end{matrix}\\right]$"
      ],
      "text/plain": [
       "Matrix([\n",
       "[0.5],\n",
       "[2.0]])"
      ]
     },
     "execution_count": 23,
     "metadata": {},
     "output_type": "execute_result"
    },
    {
     "name": "stdout",
     "output_type": "stream",
     "text": [
      "----- Eigenvectors of A -----\n"
     ]
    },
    {
     "data": {
      "text/latex": [
       "$\\displaystyle \\left[\\begin{matrix}1.0 & 0.0\\\\0.0 & 1.0\\end{matrix}\\right]$"
      ],
      "text/plain": [
       "Matrix([\n",
       "[1.0, 0.0],\n",
       "[0.0, 1.0]])"
      ]
     },
     "execution_count": 23,
     "metadata": {},
     "output_type": "execute_result"
    },
    {
     "name": "stdout",
     "output_type": "stream",
     "text": [
      "----- Eigenvectors scaled by eigenvalues -----\n"
     ]
    },
    {
     "data": {
      "text/latex": [
       "$\\displaystyle \\left[\\begin{matrix}0.5 & 0.0\\\\0.0 & 2.0\\end{matrix}\\right]$"
      ],
      "text/plain": [
       "Matrix([\n",
       "[0.5, 0.0],\n",
       "[0.0, 2.0]])"
      ]
     },
     "execution_count": 23,
     "metadata": {},
     "output_type": "execute_result"
    },
    {
     "name": "stdout",
     "output_type": "stream",
     "text": [
      "----- Transformed data for 3 datapoints -----\n"
     ]
    },
    {
     "data": {
      "text/latex": [
       "$\\displaystyle \\left[\\begin{matrix}-0.5 & -2.0\\\\-0.5 & -1.78947368421053\\\\-0.5 & -1.57894736842105\\end{matrix}\\right]$"
      ],
      "text/plain": [
       "Matrix([\n",
       "[-0.5,              -2.0],\n",
       "[-0.5, -1.78947368421053],\n",
       "[-0.5, -1.57894736842105]])"
      ]
     },
     "execution_count": 23,
     "metadata": {},
     "output_type": "execute_result"
    }
   ],
   "source": [
    "# Applying transformation: stretching the space.\n",
    "A1 = np.vstack([\n",
    "                [1/2, 0],\n",
    "                [0, 2]\n",
    "               ])\n",
    "\n",
    "# do eigen analysis\n",
    "a1Eig = npl.eig(A1)\n",
    "\n",
    "# apply transformation of the datapoints\n",
    "originalA1 = (A1 @ original.T).T # Problem #1, fill in here.\n",
    "\n",
    "# scalue the eigenvectors by corresponding eigenvalues.\n",
    "a1 = np.vstack([a1Eig[0][0]*a1Eig[1][:,0],a1Eig[0][1]*a1Eig[1][:,1]])# Problem #1, fill in here.\n",
    "\n",
    "# Applying transformation from book.\n",
    "print(\"----- Original data for 3 datapoints -----\")\n",
    "Matrix(original[:3]) # Original matrix.\n",
    "print(\"----- Transformation matrix A -----\")\n",
    "Matrix(A1) # Transformation matrix.\n",
    "print(\"----- Eigenvalues of A -----\")\n",
    "Matrix(a1Eig[0]) # Transformation eigenvalues.\n",
    "print(\"----- Eigenvectors of A -----\")\n",
    "Matrix(a1Eig[1]) # Transformation eigenvectors.\n",
    "print(\"----- Eigenvectors scaled by eigenvalues -----\")\n",
    "Matrix(a1) # Eigenvalue and vector plotting.\n",
    "print(\"----- Transformed data for 3 datapoints -----\")\n",
    "Matrix(originalA1[:3]) # Transformed matrix."
   ]
  },
  {
   "cell_type": "markdown",
   "metadata": {},
   "source": []
  },
  {
   "cell_type": "code",
   "execution_count": 24,
   "metadata": {},
   "outputs": [
    {
     "data": {
      "text/plain": [
       "[-3.5, 3.5, -3.5, 3.5, -3.5, 3.5, -3.5, 3.5, -3.5, 3.5, -3.5, 3.5]"
      ]
     },
     "execution_count": 24,
     "metadata": {},
     "output_type": "execute_result"
    },
    {
     "data": {
      "text/plain": [
       "<matplotlib.collections.PathCollection at 0x2382bfc2d48>"
      ]
     },
     "execution_count": 24,
     "metadata": {},
     "output_type": "execute_result"
    },
    {
     "data": {
      "text/plain": [
       "Text(0.5, 1.0, '$ \\\\lambda_{1,2}$ = 0.5, 2.0')"
      ]
     },
     "execution_count": 24,
     "metadata": {},
     "output_type": "execute_result"
    },
    {
     "data": {
      "text/plain": [
       "<matplotlib.quiver.Quiver at 0x2382c41c048>"
      ]
     },
     "execution_count": 24,
     "metadata": {},
     "output_type": "execute_result"
    },
    {
     "data": {
      "text/plain": [
       "<matplotlib.quiver.Quiver at 0x2382bfcb0c8>"
      ]
     },
     "execution_count": 24,
     "metadata": {},
     "output_type": "execute_result"
    },
    {
     "data": {
      "text/plain": [
       "<matplotlib.collections.PathCollection at 0x2382c46e208>"
      ]
     },
     "execution_count": 24,
     "metadata": {},
     "output_type": "execute_result"
    },
    {
     "data": {
      "image/png": "[encoded data removed]",
      "text/plain": [
       "<Figure size 1296x388.8 with 3 Axes>"
      ]
     },
     "metadata": {
      "needs_background": "light"
     },
     "output_type": "display_data"
    }
   ],
   "source": [
    "# Figure setup.\n",
    "fig, a = plt.subplots(1, 3, figsize=(18, 5.4)) # a = [original vector space, eigen space, transformed space] \n",
    "a[0].grid(alpha= .3); a[1].grid(alpha= .3); a[2].grid(alpha= .3)\n",
    "plt.setp(a, xlim=(-scale / 2, scale / 2), ylim=(-scale / 2, scale / 2))\n",
    "a[0].scatter(original[:, 0], original[:, 1], color=colors)\n",
    "# a[1].set_title(r\"$ \\lambda_{1,2}$ = %1.1f,\" %a1Eig[0][0] + \" %1.1f\" %a1Eig[0][1], size = 15)\n",
    "a[1].set_title(r\"$ \\lambda_{1,2}$ = %1.1f,\" %a1Eig[0][0] + \" %1.1f\" %a1Eig[0][1], size = 15)\n",
    "# Figure setup.\n",
    "\n",
    "# Transformation. Plot the vectors\n",
    "\n",
    "# plot the first eigenvector scaled by corresponding eigen value, in red. \n",
    "a[1].quiver(*origin2D, *a1[:, 0], scale=scale, width=.005, color = \"r\")\n",
    "\n",
    "# plot the second eigenvector scaled by corresponding eigen value, in blue.\n",
    "a[1].quiver(*origin2D, *a1[:, 1], scale=scale, width=.005, color = \"b\")\n",
    "\n",
    "# Transformed data.\n",
    "# visualize the transformed datapoints by A1.\n",
    "a[2].scatter(originalA1[:, 0], originalA1[:, 1], color = colors)"
   ]
  },
  {
   "cell_type": "markdown",
   "metadata": {},
   "source": [
    "The horizontal axis is compressed by a factor of $\\frac{1}{2}$, the vertical axis is extended by a factor of 2."
   ]
  },
  {
   "cell_type": "code",
   "execution_count": 27,
   "metadata": {},
   "outputs": [
    {
     "name": "stdout",
     "output_type": "stream",
     "text": [
      "----- Original data for 3 datapoints -----\n"
     ]
    },
    {
     "data": {
      "text/latex": [
       "$\\displaystyle \\left[\\begin{matrix}-1.0 & -1.0\\\\-1.0 & -0.894736842105263\\\\-1.0 & -0.789473684210526\\end{matrix}\\right]$"
      ],
      "text/plain": [
       "Matrix([\n",
       "[-1.0,               -1.0],\n",
       "[-1.0, -0.894736842105263],\n",
       "[-1.0, -0.789473684210526]])"
      ]
     },
     "execution_count": 27,
     "metadata": {},
     "output_type": "execute_result"
    },
    {
     "name": "stdout",
     "output_type": "stream",
     "text": [
      "----- Transformation matrix A -----\n"
     ]
    },
    {
     "data": {
      "text/latex": [
       "$\\displaystyle \\left[\\begin{matrix}1.0 & 0.5\\\\0.0 & 1.0\\end{matrix}\\right]$"
      ],
      "text/plain": [
       "Matrix([\n",
       "[1.0, 0.5],\n",
       "[0.0, 1.0]])"
      ]
     },
     "execution_count": 27,
     "metadata": {},
     "output_type": "execute_result"
    },
    {
     "name": "stdout",
     "output_type": "stream",
     "text": [
      "----- Eigenvalues of A -----\n"
     ]
    },
    {
     "data": {
      "text/latex": [
       "$\\displaystyle \\left[\\begin{matrix}1.0\\\\1.0\\end{matrix}\\right]$"
      ],
      "text/plain": [
       "Matrix([\n",
       "[1.0],\n",
       "[1.0]])"
      ]
     },
     "execution_count": 27,
     "metadata": {},
     "output_type": "execute_result"
    },
    {
     "name": "stdout",
     "output_type": "stream",
     "text": [
      "----- Eigenvectors of A -----\n"
     ]
    },
    {
     "data": {
      "text/latex": [
       "$\\displaystyle \\left[\\begin{matrix}1.0 & -1.0\\\\0.0 & 4.44089209850063 \\cdot 10^{-16}\\end{matrix}\\right]$"
      ],
      "text/plain": [
       "Matrix([\n",
       "[1.0,                 -1.0],\n",
       "[0.0, 4.44089209850063e-16]])"
      ]
     },
     "execution_count": 27,
     "metadata": {},
     "output_type": "execute_result"
    },
    {
     "name": "stdout",
     "output_type": "stream",
     "text": [
      "----- Eigenvectors scaled by eigenvalues -----\n"
     ]
    },
    {
     "data": {
      "text/latex": [
       "$\\displaystyle \\left[\\begin{matrix}1.0 & -1.0\\\\0.0 & 4.44089209850063 \\cdot 10^{-16}\\end{matrix}\\right]$"
      ],
      "text/plain": [
       "Matrix([\n",
       "[1.0,                 -1.0],\n",
       "[0.0, 4.44089209850063e-16]])"
      ]
     },
     "execution_count": 27,
     "metadata": {},
     "output_type": "execute_result"
    },
    {
     "name": "stdout",
     "output_type": "stream",
     "text": [
      "----- Transformed data for 3 datapoints -----\n"
     ]
    },
    {
     "data": {
      "text/latex": [
       "$\\displaystyle \\left[\\begin{matrix}-1.5 & -1.0\\\\-1.44736842105263 & -0.894736842105263\\\\-1.39473684210526 & -0.789473684210526\\end{matrix}\\right]$"
      ],
      "text/plain": [
       "Matrix([\n",
       "[             -1.5,               -1.0],\n",
       "[-1.44736842105263, -0.894736842105263],\n",
       "[-1.39473684210526, -0.789473684210526]])"
      ]
     },
     "execution_count": 27,
     "metadata": {},
     "output_type": "execute_result"
    }
   ],
   "source": [
    "# Applying transformation: shear the space.\n",
    "A2 = np.vstack([\n",
    "                [1, 1/2], \n",
    "                [0, 1]\n",
    "               ])\n",
    "\n",
    "originalA2 = (A2 @ original.T).T\n",
    "a2Eig = npl.eig(A2)\n",
    "\n",
    "a2 = np.vstack([a2Eig[0][0]*a2Eig[1][:,0],a2Eig[0][1]*a2Eig[1][:,1]]).T\n",
    "# Applying transformation from book.\n",
    "\n",
    "print(\"----- Original data for 3 datapoints -----\")\n",
    "Matrix(original[:3]) # Original matrix.\n",
    "print(\"----- Transformation matrix A -----\")\n",
    "Matrix(A2) # Transformation matrix.\n",
    "print(\"----- Eigenvalues of A -----\")\n",
    "Matrix(a2Eig[0]) # Transformation eigenvalues.\n",
    "print(\"----- Eigenvectors of A -----\")\n",
    "Matrix(a2Eig[1]) # Transformation eigenvectors.\n",
    "print(\"----- Eigenvectors scaled by eigenvalues -----\")\n",
    "Matrix(a2) # Eigenvalue and vector plotting.\n",
    "print(\"----- Transformed data for 3 datapoints -----\")\n",
    "Matrix(originalA2[:3]) # Transformed matrix."
   ]
  },
  {
   "cell_type": "code",
   "execution_count": 28,
   "metadata": {},
   "outputs": [
    {
     "data": {
      "text/plain": [
       "[-3.5, 3.5, -3.5, 3.5, -3.5, 3.5, -3.5, 3.5, -3.5, 3.5, -3.5, 3.5]"
      ]
     },
     "execution_count": 28,
     "metadata": {},
     "output_type": "execute_result"
    },
    {
     "data": {
      "text/plain": [
       "<matplotlib.collections.PathCollection at 0x2382c92ea48>"
      ]
     },
     "execution_count": 28,
     "metadata": {},
     "output_type": "execute_result"
    },
    {
     "data": {
      "text/plain": [
       "Text(0.5, 1.0, '$ \\\\lambda_{1, 2}$ = 1.0, 1.0')"
      ]
     },
     "execution_count": 28,
     "metadata": {},
     "output_type": "execute_result"
    },
    {
     "data": {
      "text/plain": [
       "<matplotlib.quiver.Quiver at 0x2382cbed3c8>"
      ]
     },
     "execution_count": 28,
     "metadata": {},
     "output_type": "execute_result"
    },
    {
     "data": {
      "text/plain": [
       "<matplotlib.quiver.Quiver at 0x2382c9f5208>"
      ]
     },
     "execution_count": 28,
     "metadata": {},
     "output_type": "execute_result"
    },
    {
     "data": {
      "text/plain": [
       "<matplotlib.collections.PathCollection at 0x2382c9dcc88>"
      ]
     },
     "execution_count": 28,
     "metadata": {},
     "output_type": "execute_result"
    },
    {
     "data": {
      "image/png": "[encoded data removed]",
      "text/plain": [
       "<Figure size 1296x388.8 with 3 Axes>"
      ]
     },
     "metadata": {
      "needs_background": "light"
     },
     "output_type": "display_data"
    }
   ],
   "source": [
    "# Figure setup.\n",
    "fig, a = plt.subplots(1, 3, figsize=(18, 5.4))\n",
    "a[0].grid(alpha=.1); a[1].grid(alpha=.1); a[2].grid(alpha=.1);\n",
    "plt.setp(a, xlim=(-scale/2, scale/2), ylim=(-scale/2, scale/2))\n",
    "a[0].scatter(original[:, 0], original[:, 1], color=colors)\n",
    "a[1].set_title(r\"$ \\lambda_{1, 2}$ = %1.1f,\" %a2Eig[0][0] + \" %1.1f\" %a2Eig[0][1], size = 15)\n",
    "# Figure setup.\n",
    "\n",
    "# Transformation. plot the vectors\n",
    "\n",
    "# plot the first eigenvector scaled by corresponding eigen value, in red. \n",
    "a[1].quiver(*origin2D, *a2[:, 0], scale=scale, width=.005, color = \"r\")\n",
    "\n",
    "# plot the second eigenvector scaled by corresponding eigen value, in blue.\n",
    "a[1].quiver(*origin2D, *a2[:, 1], scale=scale, width=.005, color = \"b\")\n",
    "\n",
    "# Transformed data.\n",
    "# visualize the transformed datapoints by A2.\n",
    "a[2].scatter(originalA2[:, 0], originalA2[:, 1], color = colors)\n"
   ]
  },
  {
   "cell_type": "markdown",
   "metadata": {},
   "source": [
    "Shearing along the horizontal axis, and the eigenvectors are collinear indicating the mapping acts only along one direction. "
   ]
  },
  {
   "cell_type": "code",
   "execution_count": 29,
   "metadata": {},
   "outputs": [
    {
     "name": "stdout",
     "output_type": "stream",
     "text": [
      "----- Original data for 3 datapoints -----\n"
     ]
    },
    {
     "data": {
      "text/latex": [
       "$\\displaystyle \\left[\\begin{matrix}-1.0 & -1.0\\\\-1.0 & -0.894736842105263\\\\-1.0 & -0.789473684210526\\end{matrix}\\right]$"
      ],
      "text/plain": [
       "Matrix([\n",
       "[-1.0,               -1.0],\n",
       "[-1.0, -0.894736842105263],\n",
       "[-1.0, -0.789473684210526]])"
      ]
     },
     "execution_count": 29,
     "metadata": {},
     "output_type": "execute_result"
    },
    {
     "name": "stdout",
     "output_type": "stream",
     "text": [
      "----- Transformation matrix A -----\n"
     ]
    },
    {
     "data": {
      "text/latex": [
       "$\\displaystyle \\left[\\begin{matrix}0.866025403784439 & -0.5\\\\0.5 & 0.866025403784439\\end{matrix}\\right]$"
      ],
      "text/plain": [
       "Matrix([\n",
       "[0.866025403784439,              -0.5],\n",
       "[              0.5, 0.866025403784439]])"
      ]
     },
     "execution_count": 29,
     "metadata": {},
     "output_type": "execute_result"
    },
    {
     "name": "stdout",
     "output_type": "stream",
     "text": [
      "----- Eigenvalues of A -----\n"
     ]
    },
    {
     "data": {
      "text/latex": [
       "$\\displaystyle \\left[\\begin{matrix}0.866025403784439 + 0.5 i\\\\0.866025403784439 - 0.5 i\\end{matrix}\\right]$"
      ],
      "text/plain": [
       "Matrix([\n",
       "[0.866025403784439 + 0.5*I],\n",
       "[0.866025403784439 - 0.5*I]])"
      ]
     },
     "execution_count": 29,
     "metadata": {},
     "output_type": "execute_result"
    },
    {
     "name": "stdout",
     "output_type": "stream",
     "text": [
      "----- Eigenvectors of A -----\n"
     ]
    },
    {
     "data": {
      "text/latex": [
       "$\\displaystyle \\left[\\begin{matrix}- 0.707106781186547 i & 0.707106781186547 i\\\\-0.707106781186548 & -0.707106781186548\\end{matrix}\\right]$"
      ],
      "text/plain": [
       "Matrix([\n",
       "[-0.707106781186547*I, 0.707106781186547*I],\n",
       "[  -0.707106781186548,  -0.707106781186548]])"
      ]
     },
     "execution_count": 29,
     "metadata": {},
     "output_type": "execute_result"
    },
    {
     "name": "stdout",
     "output_type": "stream",
     "text": [
      "----- Eigenvectors scaled by eigenvalues -----\n"
     ]
    },
    {
     "data": {
      "text/latex": [
       "$\\displaystyle \\left[\\begin{matrix}0.353553390593274 - 0.612372435695794 i & 0.353553390593274 + 0.612372435695794 i\\\\-0.612372435695795 - 0.353553390593274 i & -0.612372435695795 + 0.353553390593274 i\\end{matrix}\\right]$"
      ],
      "text/plain": [
       "Matrix([\n",
       "[ 0.353553390593274 - 0.612372435695794*I,  0.353553390593274 + 0.612372435695794*I],\n",
       "[-0.612372435695795 - 0.353553390593274*I, -0.612372435695795 + 0.353553390593274*I]])"
      ]
     },
     "execution_count": 29,
     "metadata": {},
     "output_type": "execute_result"
    },
    {
     "name": "stdout",
     "output_type": "stream",
     "text": [
      "----- Transformed data for 3 datapoints -----\n"
     ]
    },
    {
     "data": {
      "text/latex": [
       "$\\displaystyle \\left[\\begin{matrix}-0.366025403784439 & -1.36602540378444\\\\-0.418656982731807 & -1.27486483496502\\\\-0.471288561679175 & -1.18370426614561\\end{matrix}\\right]$"
      ],
      "text/plain": [
       "Matrix([\n",
       "[-0.366025403784439, -1.36602540378444],\n",
       "[-0.418656982731807, -1.27486483496502],\n",
       "[-0.471288561679175, -1.18370426614561]])"
      ]
     },
     "execution_count": 29,
     "metadata": {},
     "output_type": "execute_result"
    }
   ],
   "source": [
    "# Applying transformation: rotate the space.\n",
    "A3 = (1/2) * np.vstack([\n",
    "                        [np.sqrt(3), -1],\n",
    "                        [1, np.sqrt(3)]\n",
    "                       ])\n",
    "\n",
    "originalA3 =  (A3 @ original.T).T# Problem #1, fill in here.\n",
    "\n",
    "a3Eig = npl.eig(A3)\n",
    "a3 = np.vstack([a3Eig[0][0]*a3Eig[1][:,0],a3Eig[0][1]*a3Eig[1][:,1]]).T # Problem #1, fill in here.\n",
    "\n",
    "# Applying transformation from book.\n",
    "\n",
    "print(\"----- Original data for 3 datapoints -----\")\n",
    "Matrix(original[:3]) # Original matrix.\n",
    "print(\"----- Transformation matrix A -----\")\n",
    "Matrix(A3) # Transformation matrix.\n",
    "print(\"----- Eigenvalues of A -----\")\n",
    "Matrix(a3Eig[0]) # Transformation eigenvalues.\n",
    "print(\"----- Eigenvectors of A -----\")\n",
    "Matrix(a3Eig[1]) # Transformation eigenvector.\n",
    "print(\"----- Eigenvectors scaled by eigenvalues -----\")\n",
    "Matrix(a3) # Eigenvalue and vector for plotting.\n",
    "print(\"----- Transformed data for 3 datapoints -----\")\n",
    "Matrix(originalA3[:3]) # Transformed matrix."
   ]
  },
  {
   "cell_type": "code",
   "execution_count": 30,
   "metadata": {},
   "outputs": [
    {
     "data": {
      "text/plain": [
       "[-3.5, 3.5, -3.5, 3.5, -3.5, 3.5, -3.5, 3.5, -3.5, 3.5, -3.5, 3.5]"
      ]
     },
     "execution_count": 30,
     "metadata": {},
     "output_type": "execute_result"
    },
    {
     "data": {
      "text/plain": [
       "<matplotlib.collections.PathCollection at 0x2382c9fb388>"
      ]
     },
     "execution_count": 30,
     "metadata": {},
     "output_type": "execute_result"
    },
    {
     "name": "stderr",
     "output_type": "stream",
     "text": [
      "C:\\Users\\eagle\\anaconda3\\envs\\sypark\\lib\\site-packages\\ipykernel_launcher.py:6: ComplexWarning: Casting complex values to real discards the imaginary part\n",
      "  \n"
     ]
    },
    {
     "data": {
      "text/plain": [
       "Text(0.5, 1.0, '$ \\\\lambda_{1,2}$ = 0.9, 0.9')"
      ]
     },
     "execution_count": 30,
     "metadata": {},
     "output_type": "execute_result"
    },
    {
     "data": {
      "text/plain": [
       "<matplotlib.quiver.Quiver at 0x2382cab4fc8>"
      ]
     },
     "execution_count": 30,
     "metadata": {},
     "output_type": "execute_result"
    },
    {
     "data": {
      "text/plain": [
       "<matplotlib.quiver.Quiver at 0x2382c9f13c8>"
      ]
     },
     "execution_count": 30,
     "metadata": {},
     "output_type": "execute_result"
    },
    {
     "data": {
      "text/plain": [
       "<matplotlib.collections.PathCollection at 0x2382be5e288>"
      ]
     },
     "execution_count": 30,
     "metadata": {},
     "output_type": "execute_result"
    },
    {
     "data": {
      "image/png": "[encoded data removed]",
      "text/plain": [
       "<Figure size 1296x388.8 with 3 Axes>"
      ]
     },
     "metadata": {
      "needs_background": "light"
     },
     "output_type": "display_data"
    }
   ],
   "source": [
    "# Applying transformation: collapsing the space to a line.\n",
    "fig, a = plt.subplots(1, 3, figsize=(18, 5.4))\n",
    "a[0].grid(alpha=.1); a[1].grid(alpha=.1); a[2].grid(alpha=.1);\n",
    "plt.setp(a, xlim=(-scale/2, scale/2), ylim=(-scale/2, scale/2))\n",
    "a[0].scatter(original[:,0], original[:,1], color=colors)\n",
    "a[1].set_title(r\"$ \\lambda_{1,2}$ = %1.1f,\" %a3Eig[0][0] + \" %1.1f\" %a3Eig[0][1], size = 15)\n",
    "# Figure setup.\n",
    "\n",
    "# Transformation.\n",
    "a[1].quiver(*origin2D, *A3[:, 0], scale=scale, width=.005, color = \"r\")\n",
    "\n",
    "a[1].quiver(*origin2D, *A3[:, 1], scale=scale, width=.005, color = \"b\")\n",
    "\n",
    "\n",
    "# Transformed data.\n",
    "a[2].scatter(originalA3[:, 0], originalA3[:, 1], color = colors)"
   ]
  },
  {
   "cell_type": "markdown",
   "metadata": {},
   "source": [
    "Rotation by $\\frac{\\pi}{6}$. There are no eigenvectors to draw as this is a rotation, however the rotated matrix is drawn above.\n"
   ]
  },
  {
   "cell_type": "code",
   "execution_count": 31,
   "metadata": {},
   "outputs": [
    {
     "name": "stdout",
     "output_type": "stream",
     "text": [
      "----- Original data for 3 datapoints -----\n"
     ]
    },
    {
     "data": {
      "text/latex": [
       "$\\displaystyle \\left[\\begin{matrix}-1.0 & -1.0\\\\-1.0 & -0.894736842105263\\\\-1.0 & -0.789473684210526\\end{matrix}\\right]$"
      ],
      "text/plain": [
       "Matrix([\n",
       "[-1.0,               -1.0],\n",
       "[-1.0, -0.894736842105263],\n",
       "[-1.0, -0.789473684210526]])"
      ]
     },
     "execution_count": 31,
     "metadata": {},
     "output_type": "execute_result"
    },
    {
     "name": "stdout",
     "output_type": "stream",
     "text": [
      "----- Transformation matrix A -----\n"
     ]
    },
    {
     "data": {
      "text/latex": [
       "$\\displaystyle \\left[\\begin{matrix}1 & -1\\\\-1 & 1\\end{matrix}\\right]$"
      ],
      "text/plain": [
       "Matrix([\n",
       "[ 1, -1],\n",
       "[-1,  1]])"
      ]
     },
     "execution_count": 31,
     "metadata": {},
     "output_type": "execute_result"
    },
    {
     "name": "stdout",
     "output_type": "stream",
     "text": [
      "----- Eigenvalues of A -----\n"
     ]
    },
    {
     "data": {
      "text/latex": [
       "$\\displaystyle \\left[\\begin{matrix}2.0\\\\0.0\\end{matrix}\\right]$"
      ],
      "text/plain": [
       "Matrix([\n",
       "[2.0],\n",
       "[0.0]])"
      ]
     },
     "execution_count": 31,
     "metadata": {},
     "output_type": "execute_result"
    },
    {
     "name": "stdout",
     "output_type": "stream",
     "text": [
      "----- Eigenvectors of A -----\n"
     ]
    },
    {
     "data": {
      "text/latex": [
       "$\\displaystyle \\left[\\begin{matrix}0.707106781186547 & 0.707106781186547\\\\-0.707106781186547 & 0.707106781186547\\end{matrix}\\right]$"
      ],
      "text/plain": [
       "Matrix([\n",
       "[ 0.707106781186547, 0.707106781186547],\n",
       "[-0.707106781186547, 0.707106781186547]])"
      ]
     },
     "execution_count": 31,
     "metadata": {},
     "output_type": "execute_result"
    },
    {
     "name": "stdout",
     "output_type": "stream",
     "text": [
      "----- Eigenvectors scaled by eigenvalues -----\n"
     ]
    },
    {
     "data": {
      "text/latex": [
       "$\\displaystyle \\left[\\begin{matrix}1.41421356237309 & 0.0\\\\-1.41421356237309 & 0.0\\end{matrix}\\right]$"
      ],
      "text/plain": [
       "Matrix([\n",
       "[ 1.41421356237309, 0.0],\n",
       "[-1.41421356237309, 0.0]])"
      ]
     },
     "execution_count": 31,
     "metadata": {},
     "output_type": "execute_result"
    },
    {
     "name": "stdout",
     "output_type": "stream",
     "text": [
      "----- Transformed data for 3 datapoints -----\n"
     ]
    },
    {
     "data": {
      "text/latex": [
       "$\\displaystyle \\left[\\begin{matrix}0.0 & 0.0\\\\-0.105263157894737 & 0.105263157894737\\\\-0.210526315789474 & 0.210526315789474\\end{matrix}\\right]$"
      ],
      "text/plain": [
       "Matrix([\n",
       "[               0.0,               0.0],\n",
       "[-0.105263157894737, 0.105263157894737],\n",
       "[-0.210526315789474, 0.210526315789474]])"
      ]
     },
     "execution_count": 31,
     "metadata": {},
     "output_type": "execute_result"
    }
   ],
   "source": [
    "# Collpapse a space into a line.\n",
    "A4 = np.vstack([\n",
    "                [1, -1],\n",
    "                [-1, 1]\n",
    "               ])\n",
    "originalA4 = (A4 @ original.T).T# Problem #1, fill in here.\n",
    "a4Eig = npl.eig(A4)\n",
    "a4 = np.vstack([a4Eig[0][0]*a4Eig[1][:,0],a4Eig[0][1]*a4Eig[1][:,1]]).T # Problem #1, fill in here.\n",
    "# Applying transformation from book.\n",
    "\n",
    "print(\"----- Original data for 3 datapoints -----\")\n",
    "Matrix(original[:3]) # Original matrix.\n",
    "print(\"----- Transformation matrix A -----\")\n",
    "Matrix(A4) # Transformation matrix.\n",
    "print(\"----- Eigenvalues of A -----\")\n",
    "Matrix(a4Eig[0]) # Transformation eigenvalues.\n",
    "print(\"----- Eigenvectors of A -----\")\n",
    "Matrix(a4Eig[1]) # Transformation eigenvector.\n",
    "print(\"----- Eigenvectors scaled by eigenvalues -----\")\n",
    "Matrix(a4) # Eigenvalue and vector for plotting.\n",
    "print(\"----- Transformed data for 3 datapoints -----\")\n",
    "Matrix(originalA4[:3]) # Transformed matrix."
   ]
  },
  {
   "cell_type": "code",
   "execution_count": 33,
   "metadata": {},
   "outputs": [
    {
     "data": {
      "text/plain": [
       "[-3.5, 3.5, -3.5, 3.5, -3.5, 3.5, -3.5, 3.5, -3.5, 3.5, -3.5, 3.5]"
      ]
     },
     "execution_count": 33,
     "metadata": {},
     "output_type": "execute_result"
    },
    {
     "data": {
      "text/plain": [
       "<matplotlib.collections.PathCollection at 0x2382c53ba08>"
      ]
     },
     "execution_count": 33,
     "metadata": {},
     "output_type": "execute_result"
    },
    {
     "data": {
      "text/plain": [
       "Text(0.5, 1.0, '$ \\\\lambda_{1,2}$ = 2.0, 0.0')"
      ]
     },
     "execution_count": 33,
     "metadata": {},
     "output_type": "execute_result"
    },
    {
     "data": {
      "text/plain": [
       "<matplotlib.quiver.Quiver at 0x2382c62a588>"
      ]
     },
     "execution_count": 33,
     "metadata": {},
     "output_type": "execute_result"
    },
    {
     "data": {
      "text/plain": [
       "<matplotlib.quiver.Quiver at 0x2382c52f648>"
      ]
     },
     "execution_count": 33,
     "metadata": {},
     "output_type": "execute_result"
    },
    {
     "data": {
      "text/plain": [
       "<matplotlib.collections.PathCollection at 0x2382c68f148>"
      ]
     },
     "execution_count": 33,
     "metadata": {},
     "output_type": "execute_result"
    },
    {
     "data": {
      "image/png": "[encoded data removed]",
      "text/plain": [
       "<Figure size 1296x388.8 with 3 Axes>"
      ]
     },
     "metadata": {
      "needs_background": "light"
     },
     "output_type": "display_data"
    }
   ],
   "source": [
    "# Figure setup.\n",
    "fig,a = plt.subplots(1, 3, figsize=(18, 5.4))\n",
    "a[0].grid(alpha=.1); a[1].grid(alpha=.1); a[2].grid(alpha=.1);\n",
    "plt.setp(a, xlim=(-scale/2, scale/2), ylim=(-scale/2, scale/2))\n",
    "a[0].scatter(original[:, 0], original[:, 1], color=colors)\n",
    "a[1].set_title(r\"$ \\lambda_{1,2}$ = %1.1f,\" %a4Eig[0][0] + \" %1.1f\" %a4Eig[0][1], size = 15)\n",
    "# Figure setup.\n",
    "\n",
    "# Transformation.\n",
    "a[1].quiver(*origin2D, *a4[:,0], scale=scale, width=.005, color = \"r\")\n",
    "a[1].quiver(*origin2D, *a4[:,1], scale=scale, width=.005, color = \"b\")\n",
    "\n",
    "# Transformed data.\n",
    "a[2].scatter(originalA4[:,0], originalA4[:,1], color = colors)\n"
   ]
  },
  {
   "cell_type": "markdown",
   "metadata": {},
   "source": [
    "One eigenvector is collapsed to 0, while the other is stretched to 2. "
   ]
  },
  {
   "cell_type": "markdown",
   "metadata": {},
   "source": []
  },
  {
   "cell_type": "code",
   "execution_count": 34,
   "metadata": {},
   "outputs": [
    {
     "name": "stdout",
     "output_type": "stream",
     "text": [
      "----- Original data for 3 datapoints -----\n"
     ]
    },
    {
     "data": {
      "text/latex": [
       "$\\displaystyle \\left[\\begin{matrix}-1.0 & -1.0\\\\-1.0 & -0.894736842105263\\\\-1.0 & -0.789473684210526\\end{matrix}\\right]$"
      ],
      "text/plain": [
       "Matrix([\n",
       "[-1.0,               -1.0],\n",
       "[-1.0, -0.894736842105263],\n",
       "[-1.0, -0.789473684210526]])"
      ]
     },
     "execution_count": 34,
     "metadata": {},
     "output_type": "execute_result"
    },
    {
     "name": "stdout",
     "output_type": "stream",
     "text": [
      "----- Transformation matrix A -----\n"
     ]
    },
    {
     "data": {
      "text/latex": [
       "$\\displaystyle \\left[\\begin{matrix}1.0 & 0.5\\\\0.5 & 1.0\\end{matrix}\\right]$"
      ],
      "text/plain": [
       "Matrix([\n",
       "[1.0, 0.5],\n",
       "[0.5, 1.0]])"
      ]
     },
     "execution_count": 34,
     "metadata": {},
     "output_type": "execute_result"
    },
    {
     "name": "stdout",
     "output_type": "stream",
     "text": [
      "----- Eigenvalues of A -----\n"
     ]
    },
    {
     "data": {
      "text/latex": [
       "$\\displaystyle \\left[\\begin{matrix}1.5\\\\0.5\\end{matrix}\\right]$"
      ],
      "text/plain": [
       "Matrix([\n",
       "[1.5],\n",
       "[0.5]])"
      ]
     },
     "execution_count": 34,
     "metadata": {},
     "output_type": "execute_result"
    },
    {
     "name": "stdout",
     "output_type": "stream",
     "text": [
      "----- Eigenvectors of A -----\n"
     ]
    },
    {
     "data": {
      "text/latex": [
       "$\\displaystyle \\left[\\begin{matrix}0.707106781186548 & -0.707106781186547\\\\0.707106781186547 & 0.707106781186548\\end{matrix}\\right]$"
      ],
      "text/plain": [
       "Matrix([\n",
       "[0.707106781186548, -0.707106781186547],\n",
       "[0.707106781186547,  0.707106781186548]])"
      ]
     },
     "execution_count": 34,
     "metadata": {},
     "output_type": "execute_result"
    },
    {
     "name": "stdout",
     "output_type": "stream",
     "text": [
      "----- Eigenvectors scaled by eigenvalues -----\n"
     ]
    },
    {
     "data": {
      "text/latex": [
       "$\\displaystyle \\left[\\begin{matrix}1.06066017177982 & -0.353553390593274\\\\1.06066017177982 & 0.353553390593274\\end{matrix}\\right]$"
      ],
      "text/plain": [
       "Matrix([\n",
       "[1.06066017177982, -0.353553390593274],\n",
       "[1.06066017177982,  0.353553390593274]])"
      ]
     },
     "execution_count": 34,
     "metadata": {},
     "output_type": "execute_result"
    },
    {
     "name": "stdout",
     "output_type": "stream",
     "text": [
      "----- Transformed data for 3 datapoints -----\n"
     ]
    },
    {
     "data": {
      "text/latex": [
       "$\\displaystyle \\left[\\begin{matrix}0.0 & 0.0\\\\-0.105263157894737 & 0.105263157894737\\\\-0.210526315789474 & 0.210526315789474\\end{matrix}\\right]$"
      ],
      "text/plain": [
       "Matrix([\n",
       "[               0.0,               0.0],\n",
       "[-0.105263157894737, 0.105263157894737],\n",
       "[-0.210526315789474, 0.210526315789474]])"
      ]
     },
     "execution_count": 34,
     "metadata": {},
     "output_type": "execute_result"
    }
   ],
   "source": [
    "# Applying transformation from book.\n",
    "A5 = np.vstack([\n",
    "                [1, 1/2],\n",
    "                [1/2, 1]\n",
    "                ])\n",
    "originalA5 =  (A4 @ original.T).T# Problem #1, fill in here.\n",
    "\n",
    "a5Eig = npl.eig(A5)\n",
    "a5 =  np.vstack([a5Eig[0][0]*a5Eig[1][:,0],a5Eig[0][1]*a5Eig[1][:,1]]).T# Problem #1, fill in here.\n",
    "\n",
    "# Applying transformation from book.\n",
    "\n",
    "print(\"----- Original data for 3 datapoints -----\")\n",
    "Matrix(original[:3]) # Original matrix.\n",
    "print(\"----- Transformation matrix A -----\")\n",
    "Matrix(A5) # Transformation matrix.\n",
    "print(\"----- Eigenvalues of A -----\")\n",
    "Matrix(a5Eig[0]) # Transformation eigenvalues.\n",
    "print(\"----- Eigenvectors of A -----\")\n",
    "Matrix(a5Eig[1]) # Transformation eigenvector.\n",
    "print(\"----- Eigenvectors scaled by eigenvalues -----\")\n",
    "Matrix(a5) # Eigenvalue and vector for plotting.\n",
    "print(\"----- Transformed data for 3 datapoints -----\")\n",
    "Matrix(originalA5[:3]) # Transformed matrix."
   ]
  },
  {
   "cell_type": "code",
   "execution_count": 35,
   "metadata": {},
   "outputs": [
    {
     "data": {
      "text/plain": [
       "[-3.5, 3.5, -3.5, 3.5, -3.5, 3.5, -3.5, 3.5, -3.5, 3.5, -3.5, 3.5]"
      ]
     },
     "execution_count": 35,
     "metadata": {},
     "output_type": "execute_result"
    },
    {
     "data": {
      "text/plain": [
       "<matplotlib.collections.PathCollection at 0x2382c691548>"
      ]
     },
     "execution_count": 35,
     "metadata": {},
     "output_type": "execute_result"
    },
    {
     "data": {
      "text/plain": [
       "Text(0.5, 1.0, '$ \\\\lambda_{1,2}$ = 1.5, 0.5')"
      ]
     },
     "execution_count": 35,
     "metadata": {},
     "output_type": "execute_result"
    },
    {
     "data": {
      "text/plain": [
       "<matplotlib.quiver.Quiver at 0x2382d340288>"
      ]
     },
     "execution_count": 35,
     "metadata": {},
     "output_type": "execute_result"
    },
    {
     "data": {
      "text/plain": [
       "<matplotlib.quiver.Quiver at 0x2382d398588>"
      ]
     },
     "execution_count": 35,
     "metadata": {},
     "output_type": "execute_result"
    },
    {
     "data": {
      "text/plain": [
       "<matplotlib.collections.PathCollection at 0x2382d39ecc8>"
      ]
     },
     "execution_count": 35,
     "metadata": {},
     "output_type": "execute_result"
    },
    {
     "data": {
      "image/png": "[encoded data removed]",
      "text/plain": [
       "<Figure size 1296x388.8 with 3 Axes>"
      ]
     },
     "metadata": {
      "needs_background": "light"
     },
     "output_type": "display_data"
    }
   ],
   "source": [
    "# Figure setup.\n",
    "fig, a = plt.subplots(1, 3, figsize=(18, 5.4))\n",
    "a[0].grid(alpha=.1); a[1].grid(alpha=.1); a[2].grid(alpha=.1);\n",
    "plt.setp(a, xlim=(-scale/2, scale/2), ylim=(-scale/2, scale/2))\n",
    "a[0].scatter(original[:,0], original[:,1], color=colors)\n",
    "a[1].set_title(r\"$ \\lambda_{1,2}$ = %1.1f,\" %a5Eig[0][0] + \" %1.1f\" %a5Eig[0][1], size = 15)\n",
    "# Figure setup.\n",
    "\n",
    "# Transformation.\n",
    "a[1].quiver(*origin2D, *a5[:, 0], scale=scale, width=.005, color = \"r\")\n",
    "a[1].quiver(*origin2D, *a5[:, 1], scale=scale, width=.005, color = \"b\")\n",
    "\n",
    "a[2].scatter(originalA5[:, 0], originalA5[:, 1], color = colors)\n",
    "# Transformation."
   ]
  },
  {
   "cell_type": "markdown",
   "metadata": {},
   "source": [
    "Shear and stretch that shrinks by .75, stretching by 1.5 and compressing in the orthogonal by .5."
   ]
  },
  {
   "cell_type": "markdown",
   "metadata": {},
   "source": [
    "## Problem 2). Spectral Theorem (Eigendecomposition) (0.5 point)\n",
    "___\n",
    "\n",
    "1. A symmetric matrix is a square matrix that is equal to it's transpose.\n",
    "1. A diagonal matrix is a matrix with zeroes in all off diagonal positions.\n",
    "1. A matrix '$A$' can be decomposed into $X$ and $D$, $D$ is a diagonal matrix that is $= X^{-1}AX$; and $X$ is invertible.\n",
    "1. 'A' is a linear mapping. We are looking for another way of expressing the same linear mapping, but in another basis. \n",
    "1. If there exists an invertible matrix $X$, s.t. $D=X^{-1}AX$, we can say that '$A$' is 'diagonalizable. \n",
    "1. If a matrix is symmetric, we can say $D = XAX^{-1}$.\n",
    "1. $X$ is an orthogonal matrix of eigenvectors $\\mathbf{x}_1, \\cdots, \\mathbf{x}_n$.\n",
    "1. The diagonal entries of $D$ are $\\lambda_1, \\cdots, \\lambda_n$."
   ]
  },
  {
   "cell_type": "code",
   "execution_count": 36,
   "metadata": {},
   "outputs": [
    {
     "name": "stdout",
     "output_type": "stream",
     "text": [
      "----- Our matrix A -----\n"
     ]
    },
    {
     "data": {
      "text/latex": [
       "$\\displaystyle \\left[\\begin{matrix}1.73205080756888 & -0.25\\\\1.0 & 0.433012701892219\\end{matrix}\\right]$"
      ],
      "text/plain": [
       "Matrix([\n",
       "[1.73205080756888,             -0.25],\n",
       "[             1.0, 0.433012701892219]])"
      ]
     },
     "execution_count": 36,
     "metadata": {},
     "output_type": "execute_result"
    },
    {
     "name": "stdout",
     "output_type": "stream",
     "text": [
      "----- Is A diagonalizable? -----\n"
     ]
    },
    {
     "data": {
      "text/plain": [
       "True"
      ]
     },
     "execution_count": 36,
     "metadata": {},
     "output_type": "execute_result"
    },
    {
     "name": "stdout",
     "output_type": "stream",
     "text": [
      "----- Eigenvectors as columns -----\n"
     ]
    },
    {
     "data": {
      "text/latex": [
       "$\\displaystyle \\left[\\begin{matrix}0.728713553878169 & 0.228713553878169\\\\0.684818630291443 & 0.973493764886256\\end{matrix}\\right]$"
      ],
      "text/plain": [
       "Matrix([\n",
       "[0.728713553878169, 0.228713553878169],\n",
       "[0.684818630291443, 0.973493764886256]])"
      ]
     },
     "execution_count": 36,
     "metadata": {},
     "output_type": "execute_result"
    },
    {
     "name": "stdout",
     "output_type": "stream",
     "text": [
      "----- Eigenvalues as diagonal entries -----\n"
     ]
    },
    {
     "data": {
      "text/latex": [
       "$\\displaystyle \\left[\\begin{matrix}1.49710985352497 & 0.0\\\\0.0 & 0.667953655936123\\end{matrix}\\right]$"
      ],
      "text/plain": [
       "Matrix([\n",
       "[1.49710985352497,               0.0],\n",
       "[             0.0, 0.667953655936123]])"
      ]
     },
     "execution_count": 36,
     "metadata": {},
     "output_type": "execute_result"
    },
    {
     "name": "stdout",
     "output_type": "stream",
     "text": [
      "----- Inverse of X -----\n"
     ]
    },
    {
     "data": {
      "text/latex": [
       "$\\displaystyle \\left[\\begin{matrix}1.76111648393355 & -0.413758386917793\\\\-1.23888351606645 & 1.31829242065108\\end{matrix}\\right]$"
      ],
      "text/plain": [
       "Matrix([\n",
       "[ 1.76111648393355, -0.413758386917793],\n",
       "[-1.23888351606645,   1.31829242065108]])"
      ]
     },
     "execution_count": 36,
     "metadata": {},
     "output_type": "execute_result"
    },
    {
     "name": "stdout",
     "output_type": "stream",
     "text": [
      "----- Is A equals to X D X^-1 ? -----\n",
      "True\n"
     ]
    },
    {
     "data": {
      "text/latex": [
       "$\\displaystyle \\left[\\begin{matrix}1.73205080756888 & -0.25\\\\1.0 & 0.433012701892219\\end{matrix}\\right]$"
      ],
      "text/plain": [
       "Matrix([\n",
       "[1.73205080756888,             -0.25],\n",
       "[             1.0, 0.433012701892219]])"
      ]
     },
     "execution_count": 36,
     "metadata": {},
     "output_type": "execute_result"
    },
    {
     "name": "stdout",
     "output_type": "stream",
     "text": [
      "----- Is D equals to X^-1 A X ? -----\n",
      "True\n"
     ]
    },
    {
     "data": {
      "text/latex": [
       "$\\displaystyle \\left[\\begin{matrix}1.49710985352497 & -1.11022302462516 \\cdot 10^{-16}\\\\-1.11022302462516 \\cdot 10^{-16} & 0.667953655936123\\end{matrix}\\right]$"
      ],
      "text/plain": [
       "Matrix([\n",
       "[     1.49710985352497, -1.11022302462516e-16],\n",
       "[-1.11022302462516e-16,     0.667953655936123]])"
      ]
     },
     "execution_count": 36,
     "metadata": {},
     "output_type": "execute_result"
    }
   ],
   "source": [
    "# Rotation mappings for creating a circle and rotation of basis.\n",
    "# lambda ftn for deg -> theta\n",
    "theta = lambda deg: deg * (np.pi/180)\n",
    "# rotation mapping to draw circles\n",
    "fn = lambda theta: np.array([\n",
    "                            [np.cos(theta), -np.sin(theta)],\n",
    "                            [np.sin(theta), np.cos(theta)]\n",
    "                            ])\n",
    "# Rotation mappings for creating a circle and rotation of basis.\n",
    "\n",
    "ang = 30\n",
    "basis = np.vstack([\n",
    "                  [1, 0],\n",
    "                  [0, 1]\n",
    "                  ])\n",
    "tempScale = np.vstack([\n",
    "                      [2, 0],\n",
    "                      [0, .5]\n",
    "                      ])\n",
    "\n",
    "# Decomposition.\n",
    "A = fn(theta(ang)) @ tempScale\n",
    "print(\"----- Our matrix A -----\")\n",
    "Matrix(A)\n",
    "print(\"----- Is A diagonalizable? -----\")\n",
    "Matrix(A).is_diagonalizable() # See Matrix(np.vstack([[3,1],[0,3]])).is_diagonalizable() to see a 'False' result.\n",
    "\n",
    "# X is a orthogonal matrix of eigenvectors\n",
    "X =  npl.eig(A)[1]# Problem #2, fill in here.\n",
    "\n",
    "# elementwise multiplication of eigen values and eigonal matrix\n",
    "# hint: you may consider numpy's broadcasting (2, 2) * (2, 1) -> ??\n",
    "D =  np.diag(npl.eig(A)[0])# Problem #2, fill in here.\n",
    "\n",
    "Xinv = npl.inv(X)\n",
    "\n",
    "print(\"----- Eigenvectors as columns -----\")\n",
    "Matrix(X)\n",
    "print(\"----- Eigenvalues as diagonal entries -----\")\n",
    "Matrix(D)\n",
    "print(\"----- Inverse of X -----\")\n",
    "Matrix(Xinv)\n",
    "# Decomposition.\n",
    "\n",
    "# Identities.\n",
    "print(\"----- Is A equals to X D X^-1 ? -----\")\n",
    "print(np.allclose(A, X @ D @ Xinv))\n",
    "Matrix(X @ D @ Xinv) # A = X D X^-1\n",
    "\n",
    "\n",
    "print(\"----- Is D equals to X^-1 A X ? -----\")\n",
    "print(np.allclose(D, Xinv @ A @ X))\n",
    "Matrix(Xinv @ A @ X) # D = X^-1 A X"
   ]
  },
  {
   "cell_type": "markdown",
   "metadata": {},
   "source": [
    "### Geometric interpretation of spectral theorem (eigendecomposition)"
   ]
  },
  {
   "cell_type": "code",
   "execution_count": 41,
   "metadata": {},
   "outputs": [
    {
     "data": {
      "text/plain": [
       "[-2.5,\n",
       " 2.5,\n",
       " -2.5,\n",
       " 2.5,\n",
       " -2.5,\n",
       " 2.5,\n",
       " -2.5,\n",
       " 2.5,\n",
       " -2.5,\n",
       " 2.5,\n",
       " -2.5,\n",
       " 2.5,\n",
       " -2.5,\n",
       " 2.5,\n",
       " -2.5,\n",
       " 2.5]"
      ]
     },
     "execution_count": 41,
     "metadata": {},
     "output_type": "execute_result"
    },
    {
     "data": {
      "text/plain": [
       "Text(0.5, 1.0, '(a) Eigenvectors $\\\\mathbf{x}_1$ (red) and $\\\\mathbf{x}_2$ (pink) in the standard basis')"
      ]
     },
     "execution_count": 41,
     "metadata": {},
     "output_type": "execute_result"
    },
    {
     "data": {
      "text/plain": [
       "<matplotlib.quiver.Quiver at 0x2382d8117c8>"
      ]
     },
     "execution_count": 41,
     "metadata": {},
     "output_type": "execute_result"
    },
    {
     "data": {
      "text/plain": [
       "<matplotlib.quiver.Quiver at 0x2382d7f0d08>"
      ]
     },
     "execution_count": 41,
     "metadata": {},
     "output_type": "execute_result"
    },
    {
     "data": {
      "text/plain": [
       "<matplotlib.collections.PathCollection at 0x2382d8c5d08>"
      ]
     },
     "execution_count": 41,
     "metadata": {},
     "output_type": "execute_result"
    },
    {
     "data": {
      "text/plain": [
       "Text(0.5, 1.0, '(b) $X^{-1}$ performs a basis change; maps eigenvectors to standard basis')"
      ]
     },
     "execution_count": 41,
     "metadata": {},
     "output_type": "execute_result"
    },
    {
     "data": {
      "text/plain": [
       "<matplotlib.quiver.Quiver at 0x2382d8b3dc8>"
      ]
     },
     "execution_count": 41,
     "metadata": {},
     "output_type": "execute_result"
    },
    {
     "data": {
      "text/plain": [
       "<matplotlib.quiver.Quiver at 0x2382d86dfc8>"
      ]
     },
     "execution_count": 41,
     "metadata": {},
     "output_type": "execute_result"
    },
    {
     "data": {
      "text/plain": [
       "<matplotlib.collections.PathCollection at 0x2382d8dc208>"
      ]
     },
     "execution_count": 41,
     "metadata": {},
     "output_type": "execute_result"
    },
    {
     "data": {
      "text/plain": [
       "Text(0.5, 1.0, '(c) $D$ performs scaling along the the mapped orthgonal eigenvectors')"
      ]
     },
     "execution_count": 41,
     "metadata": {},
     "output_type": "execute_result"
    },
    {
     "data": {
      "text/plain": [
       "<matplotlib.quiver.Quiver at 0x2382d8e1288>"
      ]
     },
     "execution_count": 41,
     "metadata": {},
     "output_type": "execute_result"
    },
    {
     "data": {
      "text/plain": [
       "<matplotlib.quiver.Quiver at 0x2382d8b3f88>"
      ]
     },
     "execution_count": 41,
     "metadata": {},
     "output_type": "execute_result"
    },
    {
     "data": {
      "text/plain": [
       "<matplotlib.collections.PathCollection at 0x2382d8e8a48>"
      ]
     },
     "execution_count": 41,
     "metadata": {},
     "output_type": "execute_result"
    },
    {
     "data": {
      "text/plain": [
       "Text(0.5, 1.0, '(d) Reverse mapping $X$ from eigenvectors to standard basis')"
      ]
     },
     "execution_count": 41,
     "metadata": {},
     "output_type": "execute_result"
    },
    {
     "data": {
      "text/plain": [
       "<matplotlib.quiver.Quiver at 0x2382d83cb48>"
      ]
     },
     "execution_count": 41,
     "metadata": {},
     "output_type": "execute_result"
    },
    {
     "data": {
      "text/plain": [
       "<matplotlib.quiver.Quiver at 0x2382d8ead48>"
      ]
     },
     "execution_count": 41,
     "metadata": {},
     "output_type": "execute_result"
    },
    {
     "data": {
      "text/plain": [
       "<matplotlib.quiver.Quiver at 0x2382d8ca6c8>"
      ]
     },
     "execution_count": 41,
     "metadata": {},
     "output_type": "execute_result"
    },
    {
     "data": {
      "text/plain": [
       "<matplotlib.quiver.Quiver at 0x2382d8ccf88>"
      ]
     },
     "execution_count": 41,
     "metadata": {},
     "output_type": "execute_result"
    },
    {
     "data": {
      "text/plain": [
       "<matplotlib.collections.PathCollection at 0x2382d8fb1c8>"
      ]
     },
     "execution_count": 41,
     "metadata": {},
     "output_type": "execute_result"
    },
    {
     "data": {
      "image/png": "[encoded data removed]",
      "text/plain": [
       "<Figure size 1440x1440 with 4 Axes>"
      ]
     },
     "metadata": {
      "needs_background": "light"
     },
     "output_type": "display_data"
    }
   ],
   "source": [
    "# Figure setup.\n",
    "fig, a = plt.subplots(2, 2, figsize=(20, 20))\n",
    "scale = 5\n",
    "a[0][0].grid(alpha=.1); a[0][1].grid(alpha=.1); a[1][0].grid(alpha=.1); a[1][1].grid(alpha=.1) # Enable grid.\n",
    "plt.setp(a, xlim=(-scale/2, scale/2), ylim=(-scale/2, scale/2))\n",
    "colors = np.vstack([[i, 0, j] for i in np.linspace(0, 1, 19) for j in np.linspace(1, 0, 19)])\n",
    "# Figure setup.\n",
    "\n",
    "# First, plot the eigenvectors in the standard basis.\n",
    "a[0][0].set_title(r\"(a) Eigenvectors $\\mathbf{x}_1$ (red) and $\\mathbf{x}_2$ (pink) in the standard basis\", size = 15)\n",
    "# plot the first eigenvector in a red color.\n",
    "a[0][0].quiver(*origin2D, *X[:, 0], scale=scale, color=\"red\")\n",
    "\n",
    "# plot the first eigenvector in a pink color.\n",
    "a[0][0].quiver(*origin2D,  *X[:, 1], scale=scale, color=\"pink\")# Problem #2, fill in here.\n",
    "\n",
    "circle = np.vstack([basis[:, 0] @ fn(theta(i)) for i in list(range(0, 361, 1))]) \n",
    "a[0][0].scatter(circle[:, 0], circle[:, 1], s=scale, c=colors[:, 0])\n",
    "\n",
    "# Second, plot the resulting vectors after applying the X^-1 transformation.\n",
    "a[1][0].set_title(r\"(b) $X^{-1}$ performs a basis change; maps eigenvectors to standard basis\", size = 15)\n",
    "\n",
    "# plot the firstly mapped vector in a blue color.\n",
    "a[1][0].quiver(*origin2D,  *X@Xinv[:,0], scale=scale, color=\"blue\") # Problem #2, fill in here.\n",
    "# plot the secondly mapped vector in a lightblue color.\n",
    "a[1][0].quiver(*origin2D,  *X@Xinv[:,1], scale=scale, color=\"lightblue\")  # Problem #2, fill in here.\n",
    "\n",
    "circle = np.vstack([basis[:, 0] @ fn(theta(i)) for i in list(range(0, 361, 1))])\n",
    "a[1][0].scatter(circle[:, 0],circle[:, 1], s=scale,c=colors[:, 0])\n",
    "\n",
    "\n",
    "# Thirdly, plot the resulting vectors after applying the X^-1 @ D transformation.\n",
    "a[1][1].set_title(r\"(c) $D$ performs scaling along the the mapped orthgonal eigenvectors\", size = 15)\n",
    "\n",
    "# plot the firstly mapped vector in a black color.\n",
    "a[1][1].quiver(*origin2D, *X @ Xinv @ D[:, 0], scale=scale, color=\"black\")\n",
    "\n",
    "# plot the secondly mapped vector in a grey color.\n",
    "a[1][1].quiver(*origin2D, *X @ Xinv @ D[:, 1], scale=scale, color=\"grey\")\n",
    "circle = np.vstack([basis[:, 0] @ fn(theta(i)) for i in list(range(0, 361, 1))]) @ D\n",
    "a[1][1].scatter(circle[:, 0], circle[:, 1], s=scale, c=colors[:, 0])\n",
    "\n",
    "\n",
    "# Finally, the transformation A is identitcal to  X @ D @ Xinv\n",
    "a[0][1].set_title(r\"(d) Reverse mapping $X$ from eigenvectors to standard basis\", size = 15)\n",
    "a[0][1].quiver(*origin2D,  *A[:,0], scale=scale, color='b')# Problem #2, fill in here.\n",
    "a[0][1].quiver(*origin2D,  *A[:,1], scale=scale, color='lightblue')# Problem #2, fill in here.\n",
    "a[0][1].quiver(*origin2D, *X @ D @ Xinv[:, 0], scale=scale, color=\"b\", width=.003)\n",
    "a[0][1].quiver(*origin2D, *X @ D @ Xinv[:, 1], scale=scale, color=\"lightblue\", width=.003)\n",
    "circle = np.vstack([basis[:, 0] @ fn(theta(i)) for i in list(range(0, 361, 1))]) @ tempScale @ fn(theta(-ang)) # @D@P \n",
    "a[0][1].scatter(circle[:, 0],circle[:, 1], s=scale,c=colors[:,0])\n",
    "\n",
    "\n",
    "\n"
   ]
  },
  {
   "cell_type": "code",
   "execution_count": null,
   "metadata": {},
   "outputs": [],
   "source": []
  }
 ],
 "metadata": {
  "kernelspec": {
   "display_name": "Python 3",
   "language": "python",
   "name": "python3"
  },
  "language_info": {
   "codemirror_mode": {
    "name": "ipython",
    "version": 3
   },
   "file_extension": ".py",
   "mimetype": "text/x-python",
   "name": "python",
   "nbconvert_exporter": "python",
   "pygments_lexer": "ipython3",
   "version": "3.7.7"
  }
 },
 "nbformat": 4,
 "nbformat_minor": 4
}
