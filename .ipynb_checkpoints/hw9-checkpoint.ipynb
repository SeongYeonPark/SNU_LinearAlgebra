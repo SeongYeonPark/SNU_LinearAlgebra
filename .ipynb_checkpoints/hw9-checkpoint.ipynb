{
 "cells": [
  {
   "cell_type": "markdown",
   "metadata": {},
   "source": [
    "# Linear Algebra for Electrical Engineers\n",
    "\n",
    "\n",
    "## HW09: Linear Quadratic Control + Linear State Feedback Control\n",
    "\n",
    "---\n",
    "\n",
    "- In this homework, you will be aksed to implement a linear quadratic control and linear state feedback control.\n",
    "\n",
    "- Since this is an integrated method that incorporates several concepts we learned throughout this course (Gram-Schmidt, QR factorization, and least squares),\n",
    "we provide the codes for **Gram_Schmidt**, **QR factorization**, and **Least squares** from HW7.\n",
    "\n",
    "- This HW consists of 5 problems.\n",
    "    - Problem 1. implementing constrained least sqaures solver (0.2 point)\n",
    "    - Problem 2. *Linear quadratic control as least squares problem* (0.2 point)\n",
    "    - Problem 3. *State feedback control* (0.2 point)\n",
    "    - Problem 4. *Solve Problem 17.6 of our textbook* (0.4 point)\n",
    "\n",
    "- please fill out all the \n",
    "\n",
    "        # Problem #K. fill out here.\n",
    "\n",
    "    of given skeleton code.\n",
    "\n",
    "- you are not allowed to use \n",
    "\n",
    "        numpy.linalg, scipy\n",
    "    \n",
    "    for this homework."
   ]
  },
  {
   "cell_type": "code",
   "execution_count": 1,
   "metadata": {},
   "outputs": [],
   "source": [
    "import numpy as np\n",
    "%matplotlib inline\n",
    "from matplotlib import pyplot as plt"
   ]
  },
  {
   "cell_type": "markdown",
   "metadata": {},
   "source": [
    "## Problem 1). Implementing constrained least squares solver (0.2 point)\n",
    "---\n",
    "\n",
    "First, we define the constrained least squares problem with the constraints given as a list of $p$ scalar equality constraints:\n",
    "\n",
    "\\begin{equation}\n",
    "\\begin{aligned}\n",
    "    & \\text{minimize} \\| A \\mathbf{x} - \\mathbf{b}\\|^2 \\\\\n",
    "    & \\text{subject to} \\mathbf{c}^{\\top}_i \\mathbf{x} = \\mathbf{d}_i,~~ i = 1, \\cdots, p,  \\\\\n",
    "\\end{aligned}\n",
    "\\end{equation}\n",
    "where $\\mathbf{c}^{\\top}_i$ are the rows of a matrix $C$. We form the *Lagrangian function*\n",
    "\\begin{equation}\n",
    "\\begin{aligned}\n",
    "    & L(\\mathbf{x}, \\mathbf{z}) = \\|A \\mathbf{x} - \\mathbf{b}\\|^2 + \\mathbf{z}_1 (\\mathbf{c}^{\\top}_1 \\mathbf{x} - \\mathbf{d}_1) + \\cdots +\n",
    "    \\mathbf{z}_p (\\mathbf{c}^{\\top}_p \\mathbf{x} - \\mathbf{d}_p) \n",
    "\\end{aligned}\n",
    "\\end{equation}\n",
    "where $\\mathbf{z}$ is the $p$-vector of *Lagrangian multipliers*. The method of Lagrangian multipliers tells us that if $\\hat{\\mathbf{x}}$ is a solution of the constrained least squares problem, then there is a set of Lagrangian multipliers $\\hat{z}$ that satisfy\n",
    "\\begin{equation}\n",
    "\\begin{aligned}\n",
    "    \\frac{\\partial L}{\\partial \\mathbf{x}_i}(\\hat{\\mathbf{x}}, \\hat{\\mathbf{z}}) = 0,~~~i = 1, \\cdots, n,~~~~~ \\frac{\\partial L}{\\partial \\mathbf{z}_i}(\\hat{\\mathbf{x}}, \\hat{\\mathbf{z}}) = 0,~~ i = 1, \\cdots, p. \n",
    "\\end{aligned}\n",
    "\\end{equation}\n",
    "These are the *optimality conditions* for the constrained least squares problem.\n",
    "\n",
    "The second set of equations in the optimality conditions can be written as\n",
    "\\begin{equation}\n",
    "\\begin{aligned}\n",
    "    \\frac{\\partial L}{\\partial \\mathbf{z}_i}(\\hat{\\mathbf{x}}, \\hat{\\mathbf{z}}) = \\mathbf{c}^{\\top}_i \\mathbf{\\hat{x}} - \\mathbf{d}_i = 0,~~~i=1,\\cdots,p,\n",
    "\\end{aligned}\n",
    "\\end{equation}\n",
    "which states that $\\mathbf{\\hat{x}}$ satisfies the equality constraints $C\\mathbf{\\hat{x}}=\\mathbf{d}$. The first set of equations, however, is more informative. Expanding the objective $\\|A \\mathbf{x} - \\mathbf{b}\\|^2$ as a sum of terms involving the entries of $\\mathbf{x}$ and taking the partial derivative of $L$ with respect to $\\mathbf{x}_i$ we obtain \n",
    "\\begin{equation}\n",
    "\\begin{aligned}\n",
    "    \\frac{\\partial L}{\\partial \\mathbf{x}_i}(\\hat{\\mathbf{x}}, \\hat{\\mathbf{z}}) = 2 \\sum_{j=1}^n (A^{\\top}A)_{ij}\\hat{\\mathbf{x}}_j - 2 (A^{\\top}\\mathbf{b})_i + \\sum_{j=1}^p \\hat{\\mathbf{z}}_j (\\mathbf{c}_j)_i = 0.\n",
    "\\end{aligned}\n",
    "\\end{equation}\n",
    "\n",
    "These equations can be written in compact matrix-vector form as \n",
    "\n",
    "\\begin{equation}\n",
    "\\begin{aligned}\n",
    "   2(A^{\\top}A)\\hat{\\mathbf{x}} - 2 A^{\\top}\\mathbf{b} + C^{\\top} \\hat{\\mathbf{z}} = 0.\n",
    "\\end{aligned}\n",
    "\\end{equation}\n",
    "Combining this set of linear equations with the feasibility conditions $C \\hat{\\mathbf{x}} = \\mathbf{d}$, we can write the optimality conditions as one set of $n + p$ linear equations in the variables $(\\hat{\\mathbf{x}}, \\hat{\\mathbf{z}})$: \n",
    "\\begin{equation}\n",
    "\\begin{aligned}\n",
    "    \\begin{bmatrix}\n",
    "        2A^{\\top}A & C^{\\top} \\\\\n",
    "        C & 0\n",
    "    \\end{bmatrix}\n",
    "    \\begin{bmatrix}\n",
    "        \\hat{\\mathbf{x}} \\\\\n",
    "        \\hat{\\mathbf{z}}\n",
    "    \\end{bmatrix} =\n",
    "    \\begin{bmatrix}\n",
    "        2A^{\\top}\\mathbf{b} \\\\\n",
    "        \\mathbf{d}.\n",
    "    \\end{bmatrix}\n",
    "\\end{aligned}\n",
    "\\end{equation}\n",
    "\n",
    "These equations are called the *KKT equations* for the constrained least squares problem. In addition, we should remind the *invertibility of KKT matrix*, where the $(n + p) \\times (n + p)$ coefficient matrix in the equation above is **invertible** if and only if\n",
    "\n",
    "\\begin{equation}\n",
    "\\begin{aligned}\n",
    "    C~\\text{has linearly independent rows, and} \\begin{bmatrix} A \\\\ C \\end{bmatrix}~\\text{has linearly independent columns.}\n",
    "\\end{aligned}\n",
    "\\end{equation}\n",
    "\n",
    "\n",
    "With this KKT equations, we defined the constrained least squares solver in Sec. 16.3 of our textbook via QR factorization (**Algorithm 16.1** pp. 347).\n",
    "\n",
    "---\n",
    "   **Algorithm**  Constrained least squares via KKT equations.\n",
    "given an $m \\times n$ matrix $A$ and a $p \\times n$ matrix $C$ that satisfy the invertibility of KKT matrix, an $m$-vector $\\mathbf{b}$, and a $p$-vector $\\mathbf{d}$.\n",
    "\n",
    "1. *From Gram matrix*. Compte $A^{\\top}A$.\n",
    "2. *Solve KKT equations.* Solve KKT equations by QR factorization and back subtitution.\n",
    "\n",
    "\n",
    "---\n",
    "### In this problem, you will implement the constrained least squares solver according to the pseudocode above."
   ]
  },
  {
   "cell_type": "markdown",
   "metadata": {},
   "source": [
    "First, let's bring back some builing blocks for implementing the constrained least squares (CLS) solver from HW7.\n",
    "We privode `gram_schmidt()`, `QR_factorization()`, `back_substitution()`, and `solve_linear_equation()` functions from HW7."
   ]
  },
  {
   "cell_type": "code",
   "execution_count": 2,
   "metadata": {},
   "outputs": [],
   "source": [
    "# These are the functions for solving least squares methods from HW7.\n",
    "\n",
    "def gram_schmidt(a):\n",
    "    \"\"\"\n",
    "    in: a - length k list of n-dim np.arrays.\n",
    "    out: q - length k list of n-dim orthonormal np.arrays. \n",
    "    \"\"\"\n",
    "    q = []\n",
    "    # orthogonalization\n",
    "    for i in range(len(a)): # for i = 1, ..., k\n",
    "        q_tilde = a[i]\n",
    "        for j in range(len(q)): # for each dimension of q_tilde\n",
    "            # recursively add dot(q)\n",
    "            q_tilde = q_tilde - (np.dot(q[j], a[i]))*q[j]\n",
    "        # Test for linear dependence\n",
    "        if np.sqrt(sum(q_tilde**2)) <= 1e-10:\n",
    "            print('Vectors are linearly dependent.')\n",
    "            print('GS algorithm terminates at iteration ', i + 1)\n",
    "            return q\n",
    "        #Normalization\n",
    "        else:\n",
    "            q_tilde = q_tilde / np.sqrt(sum(q_tilde**2))\n",
    "            q.append(q_tilde)\n",
    "    return q\n",
    "\n",
    "\n",
    "def QR_factorization(A):\n",
    "    \"\"\"\n",
    "    in: numpy array whose k columns are linearly independent.\n",
    "    \"\"\"\n",
    "    # we feed gram_schmidt() A.T since it orthonormalizes row vectors of the input array. Thus, we get transposed array whose rows are      orthonormal. \n",
    "    Q_transpose = np.array(gram_schmidt(A.T))\n",
    "    R = Q_transpose @ A # since Q^T = Q^-1\n",
    "    Q = Q_transpose.T\n",
    "    return Q, R\n",
    "\n",
    "\n",
    "def back_substitution(R, b):\n",
    "    n = R.shape[0]\n",
    "    x = np.zeros(n)\n",
    "    # iterate in a reversed order: n, ..., 1.\n",
    "    for i in reversed(range(n)):\n",
    "        x[i] = b[i]\n",
    "        # recursively subtract R_{i,i+1} x_{i+1}\n",
    "        for j in range(i + 1, n):\n",
    "            x[i] = x[i] - R[i, j] * x[j]\n",
    "        # finally divide by R_{i,i}\n",
    "        x[i] = x[i] / R[i, i]\n",
    "    return x\n",
    "\n",
    "def solve_linear_equation(A, b):\n",
    "    \"\"\"\n",
    "    in: A - numpy array that represents invertible square matrix.\n",
    "        b - numpy array representing n vector.\n",
    "    \"\"\"\n",
    "    # 1) QR factorize A.\n",
    "    Q, R = QR_factorization(A)\n",
    "    # compute Q^T b\n",
    "    b_tilde = Q.T @ b\n",
    "    # solve the triangular equation Rx = Q^T b using backsubstitution.\n",
    "    x = back_substitution(R,b_tilde)\n",
    "    return x"
   ]
  },
  {
   "cell_type": "markdown",
   "metadata": {},
   "source": [
    "### Now let's build our cls solver according to the Algorithm 16.1 of our textbook."
   ]
  },
  {
   "cell_type": "code",
   "execution_count": 3,
   "metadata": {},
   "outputs": [],
   "source": [
    "def cls_solve_kkt(A, b, C, d):\n",
    "    m, n = A.shape\n",
    "    p, n = C.shape \n",
    "    #Gram matrix \n",
    "    G = A.T @ A \n",
    "    #KKT matrix \n",
    "    KKT = np.vstack([\n",
    "        np.hstack([2*G, C.T]),\n",
    "        np.hstack([C, np.zeros((p, p))])\n",
    "        ])\n",
    "    # get concatenated vector of x and z.\n",
    "    \n",
    "    xzhat = solve_linear_equation(\n",
    "        KKT, \n",
    "        np.hstack(((2*A.T@b).T, d.T)).T \n",
    "        ) \n",
    "    # we only need n-vector x.\n",
    "    return xzhat[:n]\n",
    "\n"
   ]
  },
  {
   "cell_type": "code",
   "execution_count": 4,
   "metadata": {},
   "outputs": [
    {
     "name": "stdout",
     "output_type": "stream",
     "text": [
      "Solution: [-0.19887283  0.31650285 -0.37606198  0.18098136 -0.4593484 ]\n",
      "Check if the eqaulity conditions have been met.\n",
      "True\n"
     ]
    }
   ],
   "source": [
    "# Check if our implementation is right.\n",
    "m = 10 \n",
    "n = 5 \n",
    "p = 2 \n",
    "A = np.random.normal(size = (m,n)) \n",
    "b = np.random.normal(size = m) \n",
    "C = np.random.normal(size = (p,n))\n",
    "d = np.random.normal(size = p)\n",
    "\n",
    "x = cls_solve_kkt(A, b, C, d)\n",
    "\n",
    "print(\"Solution:\", x)\n",
    "print(\"Check if the eqaulity conditions have been met.\")\n",
    "print(np.allclose(C @ x, d))\n"
   ]
  },
  {
   "cell_type": "markdown",
   "metadata": {},
   "source": [
    "## Problem 2). Linear quadratic control as least squares problem. (0.2 points)\n",
    "---\n",
    "\n",
    "\n",
    "## Linear dynamical system with state feedback\n",
    "\n",
    "For a time-invariant linear dynamical system with $n$-vector state $\\mathbf{x}$_t and $m$-vector control input $\\mathbf{u}$_t, the dynamics is\n",
    "\n",
    "\\begin{equation}\n",
    "    \\mathbf{x}_{t+1} = A \\mathbf{x}_t + B \\mathbf{u}_t,~~ t=1,2,\\cdots\n",
    "\\end{equation}\n",
    "\n",
    "In *state feedback control* the state $\\mathbf{x}_t$ is measured, and the input $\\mathbf{u}$_t is a linear function of the state, expressed as\n",
    "\n",
    "\\begin{equation}\n",
    "    \\mathbf{u}_t = K \\mathbf{x}_t\n",
    "\\end{equation}\n",
    "\n",
    "where $K$ is the $m \\times n$ *state-feedback gain matrix*.\n",
    "The term $feedback$ refers to the idea that the state is measured, and then (after multiplied by $K$) fed back into the system, via the input. This leads to a loop, where the state affects the input, and the input affects the (next) state.\n"
   ]
  },
  {
   "cell_type": "markdown",
   "metadata": {},
   "source": [
    "The matrix $K$ is called the *state feedback gain matrix*, and for this HW, **we show how an appropriate state feedback gain matrix $K$ can be found using linear quadratic control.**"
   ]
  },
  {
   "cell_type": "markdown",
   "metadata": {},
   "source": [
    "The system has an output, the $p$-vector $\\mathbf{y}_t$, given by\n",
    "\n",
    "\\begin{equation}\n",
    "\\mathbf{y}_t = C_t \\mathbf{x}_t, ~~~ t=1,2,\\cdots\n",
    "\\end{equation}\n",
    "\n",
    "Usually, $m \\leq n$ and $p \\leq n$, *i.e.*, there are fewer inputs and outputs than states.\n",
    "The state \\mathbf{x}_t, input \\mathbf{u}_t, and output \\mathbf{y}_t typically represents *deviations* from some standard or desired operating conditions. For this reason it is desirable to have $\\mathbf{x}_t, \\mathbf{y}_t$ and $\\mathbf{u}_t$ small."
   ]
  },
  {
   "cell_type": "markdown",
   "metadata": {},
   "source": [
    "*Linear quadratic control* refers to the problem of choosing the input and state sequences, over a time period $t=1,\\cdots,T$, so as to minimize a sum of squares and additional linear equality constraints. \n",
    "The 'linear' refers to the linear dynamics, and 'quadratic' refers to the objective function, which is sum of squares."
   ]
  },
  {
   "cell_type": "markdown",
   "metadata": {},
   "source": [
    "The objective function has the form $J = J_{output} + \\rho J_{input}$, where\n",
    "\n",
    "\\begin{equation}\n",
    "    J_{output} = \\| \\mathbf{y}_1 \\|^2 + \\cdots + \\| \\mathbf{y}_T \\|^2 = \\| C_1 \\mathbf{x}_1 \\|^2 + \\cdots + \\| C_T \\mathbf{x}_T  \\|^2 \\\\\n",
    "   J_{input} = \\| \\mathbf{u}_1 \\|^2 + \\cdots + \\| \\mathbf{u}_{T-1} \\|^2\n",
    "\\end{equation}.\n",
    "\n",
    "The positive parameter $\\rho$ weights the input objective $J_{input}$ relative to the output objective $J_{output}$.\n",
    "With the initial and final state contraints $x_1 = x^{\\mathrm{init}}$ and $x_T = x^{\\mathrm{des}}$, the linear quadratic control problem is\n",
    "\n",
    "\\begin{equation}\n",
    "\\text{minimize}~~J_{output} + \\rho J_{input} \\\\\n",
    "\\text{subject to}~~\\mathbf{x}_{t+1} = A_t \\mathbf{x}_t + B_t \\mathbf{u}_t, t=1,\\cdots,T-1, \\\\\n",
    "        \\mathbf{x}_1 = x^{\\mathrm{init}},~~\\mathbf{x}_T = x^{\\mathrm{des}}\n",
    "\\end{equation}"
   ]
  },
  {
   "cell_type": "markdown",
   "metadata": {},
   "source": [
    "### Formulation as constrained least squares problem.\n",
    "\n",
    "We can solve the linear quadratic control problem (the equation above) by setting it up as as big linearly constrained least squares problem. We define the vector $\\mathbf{z}$ of all these variables, stacked:\n",
    "\n",
    "\\begin{equation}\n",
    "    \\mathbf{z} = (\\mathbf{x}_1, \\cdots, \\mathbf{x}_T, \\mathbf{u}_1, \\cdots, \\mathbf{u}_{T-1}).\n",
    "\\end{equation}\n",
    "\n",
    "The dimension of $\\mathbf{z}$ is $Tn + (T-1)m$. The control objective can be expressed as \n",
    "$\\| \\tilde{A}\\mathbf{z}-\\tilde{ \\mathbf{b}} \\|^2$, where $\\tilde{ \\mathbf{b}}=\\mathbf{0}$ and A is the block matrix\n",
    "\n",
    "\\begin{equation}\n",
    "    \\tilde{A} =\n",
    "\\left[\\begin{array}{@{}c|c@{}}\n",
    "  \\begin{matrix}\n",
    "  C_1 & & &   \\\\\n",
    "   & C_2 & &  \\\\\n",
    "   & &  \\ddots & \\\\\n",
    "   & & & C_T\n",
    "  \\end{matrix}\n",
    "  & 0 \\\\\n",
    "\\hline\n",
    "  0 &\n",
    "  \\begin{matrix}\n",
    "  \\sqrt{\\rho}I &  &\\\\\n",
    "  &\\ddots&  \\\\\n",
    "   & & \\sqrt{\\rho}I\n",
    "  \\end{matrix}\n",
    "\\end{array}\\right].\n",
    "\\end{equation}\n",
    "\n",
    "IN this matrix (block) entries not shown are zero, and the identity matrices in the lower right corner have dimension $m$. (The lines in the matrix delineates the portions related to the statets and the inputs.) The dynamics constraints, and the initial and final constraints, can be expressed as $\\tilde{C}\\mathbf{z}=\\tilde{\\mathbf{d}}$, with\n",
    "\n",
    "\n",
    "\\begin{equation}\n",
    "    \\tilde{C} =\n",
    "\\left[\\begin{array}{@{}c|c@{}}\n",
    "  \\begin{matrix}\n",
    "  A_1 & -I & & &           \\\\  \n",
    "   & A_2 & -I & &          \\\\\n",
    "   & &  \\ddots & \\ddots &  \\\\\n",
    "   & & & A_{T-1} & -I\n",
    "  \\end{matrix}\n",
    "  & \n",
    "  \\begin{matrix}\n",
    "   B_1 & & & &       \\\\  \n",
    "   & B_2 & & &       \\\\\n",
    "   & & \\ddots & &    \\\\\n",
    "   & & & & B_{T-1}\n",
    "  \\end{matrix} \\\\\n",
    "\\hline\n",
    "  \\begin{matrix}\n",
    "  I &  &  &  &\\\\\n",
    "    &  &  &  & I\n",
    "  \\end{matrix}\n",
    "  &\n",
    "  \\end{array}\n",
    "  \\right],~~~\n",
    "\n",
    "\\tilde{\\mathbf{d}} =\n",
    "\\begin{bmatrix}\n",
    "0 \\\\ 0 \\\\ \\vdots \\\\ 0 \\\\ \\hline \\\\ x^{\\mathrm{init}} \\\\ x^{\\mathrm{des}}\n",
    "\\end{bmatrix},\n",
    "\\end{equation}\n",
    "\n",
    "where (block) entries not shown are zero. (The vertical line separates the portions of the matrix associated with the states and the inputs, and the horizontal lines separate the dynamics equations and the initial and final state constraints.)\n",
    "\n",
    "The solution $\\hat{\\mathbf{z}}$ of the constrained least squares problem\n",
    "\n",
    "\\begin{equation}\n",
    "    \\text{minimize}~~ \\| \\tilde{A}\\mathbf{z} - \\tilde{\\mathbf{b}} \\|^2 \\\\\n",
    "    \\text{subject to}~~ \\tilde{C}\\mathbf{z} = \\tilde{\\mathbf{d}}\n",
    "\\end{equation}\n",
    "\n",
    "\n",
    "gives us the optimal input trajectory and the associated optimal state (and output) trajectory.\n",
    "The solution $\\hat{\\mathbf{z}}$ is a linear function of $\\hat{\\mathbf{b}}$ and $\\hat{\\mathbf{d}}$; since here $\\hat{\\mathbf{b}}$, it is a linear function of $\\mathbf{x}^{\\mathrm{init}}$ and  $\\mathbf{x}^{\\mathrm{des}}$."
   ]
  },
  {
   "cell_type": "markdown",
   "metadata": {},
   "source": [
    "---\n",
    "### Kronecker product.\n",
    "\n",
    "To create the big matrices $\\tilde{A}$ and $\\tilde{C}$, we need to define block diagonal matrices with the same matrix repeated a number of times along the diagonal. There are many ways to do this in Python. One of the simplest ways uses the 'np.kron' function, for the \n",
    "Kronecker product of two matrices.\n",
    "\n",
    "### First, we will implement a function that creates a Kronecker products."
   ]
  },
  {
   "cell_type": "code",
   "execution_count": 5,
   "metadata": {},
   "outputs": [
    {
     "name": "stdout",
     "output_type": "stream",
     "text": [
      "Compare the Kronecker matrix of ours to Numpy's\n",
      "----- Kron matrix of Numpy -----\n",
      "[[ 0.70012511 -0.96148692 -0.06017391  0.         -0.         -0.\n",
      "   0.         -0.         -0.        ]\n",
      " [ 0.         -0.         -0.          0.70012511 -0.96148692 -0.06017391\n",
      "   0.         -0.         -0.        ]\n",
      " [ 0.         -0.         -0.          0.         -0.         -0.\n",
      "   0.70012511 -0.96148692 -0.06017391]]\n",
      "----- Kron matrix of ours -----\n",
      "[[ 0.70012511 -0.96148692 -0.06017391  0.          0.          0.\n",
      "   0.          0.          0.        ]\n",
      " [ 0.          0.          0.          0.70012511 -0.96148692 -0.06017391\n",
      "   0.          0.          0.        ]\n",
      " [ 0.          0.          0.          0.          0.          0.\n",
      "   0.70012511 -0.96148692 -0.06017391]]\n",
      "Are Kron matrix of numpy and ours the same?\n",
      "True\n"
     ]
    }
   ],
   "source": [
    "# reference: numpy's function\n",
    "Rand = np.random.normal(size=(1, 3))\n",
    "\n",
    "Kron_numpy = np.kron(np.eye(3), Rand)\n",
    "\n",
    "def create_kron(expand_dim, A):\n",
    "    G = np.eye(expand_dim)\n",
    "    p, q = A.shape # (2,2)\n",
    "    m, n = G.shape # (3,3)\n",
    "    matrix = np.zeros((m * p, n * q))\n",
    "    for k in range(n):\n",
    "        matrix[p * k:p * (k + 1), q * k:q * (k + 1)] = A# Problem #2, fill in here.\n",
    "    return matrix\n",
    "\n",
    "print(\"Compare the Kronecker matrix of ours to Numpy's\")\n",
    "print(\"----- Kron matrix of Numpy -----\")\n",
    "print(Kron_numpy)\n",
    "Kron_ours = create_kron(3, Rand)\n",
    "print(\"----- Kron matrix of ours -----\")\n",
    "print(Kron_ours)\n",
    "\n",
    "print(\"Are Kron matrix of numpy and ours the same?\")\n",
    "print(np.allclose(Kron_numpy, Kron_ours))\n",
    "\n"
   ]
  },
  {
   "cell_type": "markdown",
   "metadata": {},
   "source": [
    "**Linear quadratic control example.** We start by writing a function `lqr` that constructs and solves the constrained least squares problem for linear quadratic control. The function returns three arrays\n",
    "```python\n",
    "x = [ x[1], x[2], ..., x[T] ],\n",
    "u = [ u[1], u[2], ..., u[T-1] ],\n",
    "y = [ y[1], y[2], ..., y[T] ]. \n",
    "```\n",
    "The first two contain the optimal solution of the problem. The third array contains\n",
    "$y_t = Cx_t$. \n",
    "\n",
    "We allow the input arguments `x_init` and `x_des` to be matrices, so we can solve the same problem for different pairs of initial and end states, with one function call. If the number of columns in `x_init` and `x_des` is `q`, then the entries of the three output sequences `x, u, y` are matrices with `q` columns. The `i`th columns are the solution for the initial and end states specified in the `i`th columns of `x_init` and `x_des`."
   ]
  },
  {
   "cell_type": "markdown",
   "metadata": {},
   "source": [
    "\n"
   ]
  },
  {
   "cell_type": "markdown",
   "metadata": {},
   "source": [
    "To begin, we need to define the constrained least squares solver. Thus, let's bring back the least squares solver we implemented in HW7.\n",
    "Remember that we need `QR_factorization()` and `back_subtitution()` to solve least squares, and `QR_factorization()` requires `gram_schimidt()`.\n",
    "We provide this methods (what are the answer for HW7) here."
   ]
  },
  {
   "cell_type": "code",
   "execution_count": 6,
   "metadata": {},
   "outputs": [],
   "source": [
    "# let's apply the example in our textbook. (Chapter 17.2.1, pp.368)\n",
    "A = np.array([[ 0.855, 1.161, 0.667], [0.015, 1.073, 0.053], [-0.084, 0.059, 1.022]])\n",
    "B = np.array([[-0.076], [-0.139] ,[0.342]])\n",
    "C = np.array([[ 0.218, -3.597, -1.683]])\n",
    "n = 3\n",
    "p = 1 \n",
    "m = 1\n",
    "x_init = np.array([[0.496], [-0.745], [1.394]])\n",
    "x_des = np.zeros((n, 1))"
   ]
  },
  {
   "cell_type": "code",
   "execution_count": 7,
   "metadata": {},
   "outputs": [
    {
     "data": {
      "image/png": "[encoded data removed]",
      "text/plain": [
       "<Figure size 432x288 with 1 Axes>"
      ]
     },
     "metadata": {
      "needs_background": "light"
     },
     "output_type": "display_data"
    }
   ],
   "source": [
    "# plot the open loop response Fig. 17.4 of the textbook.\n",
    "T = 100\n",
    "yol = np.zeros((T, 1))\n",
    "Xol = np.hstack([x_init, np.zeros((n,T - 1))])\n",
    "for k in range(T - 1):\n",
    "    Xol[:, k + 1] = A @ Xol[:, k]\n",
    "yol = C @ Xol\n",
    "plt.ion()\n",
    "plt.xlabel('t')\n",
    "plt.ylabel('y_t') \n",
    "plt.plot(np.arange(T), yol.T)\n",
    "plt.title('open loop outputs') \n",
    "plt.show()"
   ]
  },
  {
   "cell_type": "markdown",
   "metadata": {},
   "source": [
    "### Now, let's define our linear quadratic controller."
   ]
  },
  {
   "cell_type": "code",
   "execution_count": 8,
   "metadata": {},
   "outputs": [],
   "source": [
    "# Let's implement our Linear Quadratic Controller.\n",
    "def lqr(A, B, C, x_init, x_des, T, rho):\n",
    "    n = A.shape[0]\n",
    "    m = B.shape[1]\n",
    "    p = C.shape[0]\n",
    "    q = x_init.shape[1]\n",
    "    # create \\tilde{A}, with the form of \n",
    "    #               |  C_1                                              |   \n",
    "    #               |      C_1                                          |\n",
    "    #               |         .                     0                   |\n",
    "    #               |           .                                       |\n",
    "    #               |             .                                     |\n",
    "    #  \\tilde{A} =  |               C_T                                 |       \n",
    "    #               |                   \\sqrt{\\rho}I                    |\n",
    "    #               |                           \\sqrt{\\rho}I            |\n",
    "    #               |       0                                           |\n",
    "    #               |                                   \\sqrt{\\rho}I    |\n",
    "    Atil = np.vstack([\n",
    "                np.hstack([\n",
    "                    create_kron(T, C),\n",
    "                    np.zeros( (p * T, m * (T-1)))\n",
    "                          ]),\n",
    "                np.hstack([\n",
    "                    np.zeros((m * (T - 1), T * n)),\n",
    "                    create_kron(T-1, np.sqrt(rho)*np.eye(m))\n",
    "                          ])\n",
    "                     ])\n",
    "\n",
    "    btil = np.zeros((p * T + m * (T - 1), q))\n",
    "    # construct Ctilde bit by bit.\n",
    "    # create upper left block\n",
    "    Ctil11 = np.hstack([   create_kron(T - 1, A)   , np.zeros((n*(T-1), n))   ]) - np.hstack([   np.zeros((n*(T-1), n))   ,   np.eye(n*(T-1))       ])\n",
    "\n",
    "    # create upper right block\n",
    "    Ctil12 = create_kron(T-1, B) # Problem #2, fill in here.\n",
    "\n",
    "    # create lower left block\n",
    "    Ctil21 = np.vstack([    np.hstack([np.eye(n), np.zeros((n,n*(T-1)))  ]), np.hstack([np.zeros((n,n*(T-1))),np.eye(n)]) ])\n",
    "\n",
    "    # create lower right block\n",
    "    Ctil22 = np.zeros((2*n, m*(T-1)))\n",
    "\n",
    "    Ctil = np.vstack([np.hstack([Ctil11, Ctil12]), np.hstack([Ctil21, Ctil22])])\n",
    "\n",
    "    dtil = np.vstack([np.zeros((n*(T-1), q)), x_init, x_des])\n",
    "\n",
    "    z = cls_solve_kkt(Atil, btil, Ctil, dtil)\n",
    "\n",
    "    x = [z[i * n:(i + 1) * n] for i in range(T)]\n",
    "    u = [z[n * T + i * m: n * T + (i + 1) * m] for i in range(T-1)]\n",
    "    y = [(C @ xt) for xt in x]\n",
    "    return x, u, y"
   ]
  },
  {
   "cell_type": "markdown",
   "metadata": {},
   "source": [
    "### Linear quadratic control"
   ]
  },
  {
   "cell_type": "code",
   "execution_count": 9,
   "metadata": {},
   "outputs": [
    {
     "name": "stdout",
     "output_type": "stream",
     "text": [
      "0.7738942520835613\n",
      "3.7829986497377304\n"
     ]
    }
   ],
   "source": [
    "\"We apply the fucntion the example in 17.2.21.\"\n",
    "# let's test for rho = 0.2.\n",
    "# The results are sadly differ from the 2nd row of Fig. 17.6\n",
    "rho = 0.2\n",
    "x, u, y = lqr(A, B, C, x_init, x_des, T, rho)\n",
    "\n",
    "J_input = np.linalg.norm(u)**2\n",
    "J_output = np.linalg.norm(y)**2\n",
    "\n",
    "print(J_input)\n",
    "print(J_output)"
   ]
  },
  {
   "cell_type": "code",
   "execution_count": 10,
   "metadata": {},
   "outputs": [
    {
     "data": {
      "image/png": "[encoded data removed]",
      "text/plain": [
       "<Figure size 432x288 with 1 Axes>"
      ]
     },
     "metadata": {
      "needs_background": "light"
     },
     "output_type": "display_data"
    },
    {
     "data": {
      "image/png": "[encoded data removed]",
      "text/plain": [
       "<Figure size 432x288 with 1 Axes>"
      ]
     },
     "metadata": {
      "needs_background": "light"
     },
     "output_type": "display_data"
    }
   ],
   "source": [
    "plt.plot(np.arange(T - 1), u)\n",
    "plt.xlabel('t')\n",
    "plt.ylabel('u_t') \n",
    "plt.title('lqr_inputs rho = 0.2') \n",
    "plt.show()\n",
    "plt.plot(np.arange(T), y) \n",
    "plt.xlabel('t') \n",
    "plt.ylabel('y_t')\n",
    "plt.title('lqr_outputs rho = 0.2') \n",
    "plt.show()"
   ]
  },
  {
   "cell_type": "markdown",
   "metadata": {},
   "source": [
    "## Problem 3). State feedback controller (0.2 points)"
   ]
  },
  {
   "cell_type": "code",
   "execution_count": 11,
   "metadata": {},
   "outputs": [],
   "source": [
    "# initialize each column of x_init as ith unit vectors....\n",
    "\n",
    "# x_init for state feedback controller is x_init = [e1, e2, ..., en] -> I_n matrix\n",
    "x_init_sf = np.eye(n)\n",
    "\n",
    "# split the I_n as a list of its columns\n",
    "\n",
    "# x_des is zero matrix\n",
    "x_init_sf_list = [x_init_sf[:, i][:, None] for i in range(n)]\n",
    "\n",
    "x_des = np.zeros((n, n))\n",
    "x_des_list = [x_des[:, i][:, None] for i in range(n)]\n",
    "\n",
    "# Linear state feedback control\n",
    "# should test on various initial conditions.\n",
    "# prepare the list to append the state feedback inputs.\n",
    "usf = []\n",
    "for i in range(n):\n",
    "    # for each x_init from 'x_init_sf_list',\n",
    "    # run LQR for T steps to get the state feedback inputs\n",
    "    _, _usf, _ = lqr(A, B, C, x_init_sf_list[i], x_des_list[i], T, rho) # Problem #3, fill in here.\n",
    "    usf.append(np.array(_usf)[..., None])\n",
    "\n",
    "# concatenate the m-vector optimal inputs to its n columns.\n",
    "usf = np.concatenate(usf, axis=-1) # [T, m, n]\n",
    "\n",
    "# as noted in chapter 17.2.3 of our textbook, u_1 = K @ x_1\n",
    "# Hint: x_1 is an identity matrix in our case\n",
    "K = usf[0] # Problem #3, fill in here.\n",
    "\n",
    "# run state feedback for 150 timesteps.\n",
    "TT = 150\n",
    "Xsf = np.hstack([x_init, np.zeros((n, TT - 1))]) # (n, TT)\n",
    "\n",
    "for k in range(TT - 1):\n",
    "    # Hint: x_{t+1} = Ax_t + Bu_t\n",
    "    # u_t = K x_t\n",
    "    Xsf[:, k + 1] = (A + B@K)@Xsf[:,k]\n",
    "usf = np.matmul(K, Xsf[:, 0:TT - 1])\n",
    "ysf = np.matmul(C, Xsf) # (1, 150)"
   ]
  },
  {
   "cell_type": "code",
   "execution_count": 12,
   "metadata": {
    "scrolled": true
   },
   "outputs": [
    {
     "data": {
      "text/plain": [
       "<matplotlib.legend.Legend at 0x18b99fc0e08>"
      ]
     },
     "execution_count": 12,
     "metadata": {},
     "output_type": "execute_result"
    },
    {
     "data": {
      "image/png": "[encoded data removed]",
      "text/plain": [
       "<Figure size 432x288 with 1 Axes>"
      ]
     },
     "metadata": {
      "needs_background": "light"
     },
     "output_type": "display_data"
    }
   ],
   "source": [
    "#Plot the two outputs, compare with Fig. 17.7 of our textbook (pp. 372)\n",
    "plt.plot(np.vstack([np.vstack(y), np.zeros((TT - T, 1))]))\n",
    "plt.plot(ysf.T)\n",
    "plt.legend([\"Optimal\", \"State Feedback\"])"
   ]
  },
  {
   "cell_type": "markdown",
   "metadata": {},
   "source": [
    "## Linear dynamical system with state feedback\n",
    "\n",
    "For a time-invariant linear dynamical system with $n$-vector state $\\mathbf{x}$_t and $m$-vector control input $\\mathbf{u}$_t, the dynamics is\n",
    "\n",
    "\\begin{equation}\n",
    "    \\mathbf{x}_{t+1} = A \\mathbf{x}_t + B \\mathbf{u}_t,~~ t=1,2,\\cdots\n",
    "\\end{equation}\n",
    "\n",
    "In *state feedback control* the state $\\mathbf{x}_t$ is measured, and the input $\\mathbf{u}$_t is a linear function of the state, expressed as\n",
    "\n",
    "\\begin{equation}\n",
    "    \\mathbf{u}_t = K \\mathbf{x}_t\n",
    "\\end{equation}\n",
    "\n",
    "where $K$ is the $m \\times n$ *state-feedback gain matrix*.\n",
    "The term $feedback$ refers to the idea that the state is measured, and then (after multiplied by $K$) fed back into the system, via the input. This leads to a loop, where the state affects the input, and the input affects the (next) state.\n"
   ]
  },
  {
   "cell_type": "markdown",
   "metadata": {},
   "source": [
    "## Problem 4). Solve Problem 17.6 of our textbook (pp. 379) (0.4 points)\n",
    "---\n",
    "### For problem 17.6(a), we assume an open loop control, where $\\mathbf{u}_t = 0$. Thus, we have a relationship of\n",
    "\n",
    "\\begin{equation}\n",
    "    \\mathbf{x}_{t+1} = A \\mathbf{x}_t,~~ t=1,2,\\cdots\n",
    "\\end{equation}\n",
    "\n",
    "\n",
    "The system has an output, the $p$-vector $\\mathbf{y}_t$, given by\n",
    "\n",
    "\\begin{equation}\n",
    "\\mathbf{y}_t = C \\mathbf{x}_t, ~~~ t=1,2,\\cdots\n",
    "\\end{equation}\n",
    "\n",
    "Thus, for an open-loop case, the output should be like\n",
    "\\begin{equation}\n",
    "\\mathbf{y}_t = C A^{t-1} \\mathbf{x}^{\\mathrm{init}}, ~~~ t=1,\\cdots, T,\n",
    "\\end{equation}\n",
    "which is called the open-loop output."
   ]
  },
  {
   "cell_type": "code",
   "execution_count": 13,
   "metadata": {},
   "outputs": [
    {
     "name": "stdout",
     "output_type": "stream",
     "text": [
      "Shape of open loop states of X: (4, 120)\n"
     ]
    },
    {
     "data": {
      "image/png": "[encoded data removed]",
      "text/plain": [
       "<Figure size 432x288 with 1 Axes>"
      ]
     },
     "metadata": {
      "needs_background": "light"
     },
     "output_type": "display_data"
    }
   ],
   "source": [
    "# flight control example\n",
    "A = np.array( # (4 * 4)\n",
    "    [[0.99, 0.03, -0.02, -0.32],\n",
    "     [0.01, 0.47, 4.70, 0.00],\n",
    "     [0.02, -0.06, 0.40, 0.00],\n",
    "     [0.01, -0.04, 0.72, 0.99]]\n",
    ")\n",
    "\n",
    "n = 4 \n",
    "# Input matrix\n",
    "B = np.array(\n",
    "    [[0.01, 0.99], \n",
    "     [-3.44, 1.66], \n",
    "     [-0.83, 0.44],\n",
    "     [-0.47, 0.25]]\n",
    ") # (4 * 2)\n",
    "\n",
    "\n",
    "x_init = np.array([0, 0, 0, 1])[:, None]\n",
    "# all inputs are zero. \n",
    "\n",
    "# 17.6 (a)\n",
    "T = 120\n",
    "yol = np.zeros((T, 1))\n",
    "Xol = np.hstack([x_init, np.zeros((n, T - 1))])\n",
    "print(\"Shape of open loop states of X:\", Xol.shape)\n",
    "# plot the open loop response Fig. 17.4 of the textbook.\n",
    "\n",
    "for k in range(T-1):\n",
    "    Xol[:, k + 1] = A @ Xol[:,k]# Problem #4, fill in here.\n",
    "# yol = C @ Xol\n",
    "plt.ion()\n",
    "plt.title('phygoid mode')\n",
    "plt.plot(np.arange(T), Xol.T[:,0], label='vel. along body axis')\n",
    "plt.plot(np.arange(T), Xol.T[:,1], label='vel. perpend. body axis')\n",
    "plt.plot(np.arange(T), Xol.T[:,2], label='ang. body axis above horizon.')\n",
    "plt.plot(np.arange(T), Xol.T[:,3], label='pitch rate')\n",
    "plt.xlabel('t') \n",
    "plt.ylabel('x_t')\n",
    "plt.legend(loc='best')\n",
    "plt.show()\n",
    "\n",
    "\n"
   ]
  },
  {
   "cell_type": "markdown",
   "metadata": {},
   "source": [
    "### Problem 17.6(b): Linear quadratic control.\n",
    "\n",
    "condition:\n",
    "- $C = I$\n",
    "- $\\rho = 100$\n",
    "- $T = 100$\n",
    "- $\\mathbf{x}_1 = \\mathbf{e}_4 = [0, 0, 0, 1]^{\\top}$\n",
    "- $\\mathbf{x}^{\\mathrm{des}} = 0$\n",
    "\n",
    "### Plot the state and input variables over $t = 1, \\cdots, 120.$ (For $t = 100, \\cdots, 120$, the state and input variables are zero.)"
   ]
  },
  {
   "cell_type": "code",
   "execution_count": 14,
   "metadata": {},
   "outputs": [
    {
     "data": {
      "image/png": "[encoded data removed]",
      "text/plain": [
       "<Figure size 432x288 with 1 Axes>"
      ]
     },
     "metadata": {
      "needs_background": "light"
     },
     "output_type": "display_data"
    },
    {
     "data": {
      "image/png": "[encoded data removed]",
      "text/plain": [
       "<Figure size 432x288 with 1 Axes>"
      ]
     },
     "metadata": {
      "needs_background": "light"
     },
     "output_type": "display_data"
    }
   ],
   "source": [
    "\n",
    "C = np.eye(4) # an identity matrix of shape (4, 4)\n",
    "x_init = np.array([0, 0, 0, 1])[:, None]\n",
    "x_des = np.zeros((n,1))\n",
    "rho = 100\n",
    "T = 100\n",
    "x, u, y = lqr(A, B, C, x_init, x_des, T, rho)\n",
    "\n",
    "x.extend(np.zeros((20, 4)))\n",
    "x = np.array(x) #  for the ease of slicing\n",
    "u.extend(np.zeros((20, 2)))\n",
    "u = np.array(u) #  for the ease of slicing\n",
    "\n",
    "\n",
    "plt.ion()\n",
    "plt.title('state_variables')\n",
    "plt.plot(np.arange(T + 20), x[:, 0], label='vel. along body axis') \n",
    "plt.plot(np.arange(T + 20), x[:, 1], label='vel. perpend. body axis') \n",
    "plt.plot(np.arange(T + 20), x[:, 2], label='ang. body axis above horizon.') \n",
    "plt.plot(np.arange(T + 20), x[:, 3], label='pitch rate') \n",
    "plt.xlabel('t') \n",
    "plt.ylabel('x_t')\n",
    "plt.legend(loc='lower right')\n",
    "plt.show()\n",
    "\n",
    "plt.ion()\n",
    "plt.title('input_variables')\n",
    "plt.plot(np.arange(T -1 + 20), u[:, 0], label='elevator angle')\n",
    "plt.plot(np.arange(T -1 + 20), u[:, 1], label='engine thrust')\n",
    "plt.xlabel('t')\n",
    "plt.ylabel('u_t') \n",
    "plt.legend(loc='upper right')\n",
    "plt.show()\n",
    "\n"
   ]
  },
  {
   "cell_type": "markdown",
   "metadata": {},
   "source": [
    "### Problem 17.6(c): Find state feedback gain matrix $K$, and verify that it is almost the same as the one obtained with $T=50$.\n",
    "\n",
    "condition:\n",
    "- $C = I$\n",
    "- $\\rho = 100$\n",
    "- $T = 100$\n",
    "- $\\mathbf{x}_1 = \\mathbf{e}_4 = [0, 0, 0, 1]^{\\top}$\n",
    "- $\\mathbf{x}^{\\mathrm{des}} = 0$\n",
    "\n",
    "### Plot the state and input variables over $t = 1, \\cdots, 120.$ (For $t = 100, \\cdots, 120$, the state and input variables are zero.)"
   ]
  },
  {
   "cell_type": "code",
   "execution_count": 20,
   "metadata": {},
   "outputs": [
    {
     "name": "stdout",
     "output_type": "stream",
     "text": [
      "----- Is K close to K2? -----\n",
      "True\n"
     ]
    }
   ],
   "source": [
    "\n",
    "# initialize each column of x_init as ith unit vectors....\n",
    "# flight control example\n",
    "A = np.array( # (n * n)\n",
    "    [[0.99, 0.03, -0.02, -0.32],\n",
    "     [0.01, 0.47, 4.70, 0.00],\n",
    "     [0.02, -0.06, 0.40, 0.00],\n",
    "     [0.01, -0.04, 0.72, 0.99]]\n",
    ")\n",
    "# Input matrix\n",
    "B = np.array(\n",
    "    [[0.01, 0.99], \n",
    "     [-3.44, 1.66], \n",
    "     [-0.83, 0.44],\n",
    "     [-0.47, 0.25]]\n",
    ") # (n, m)\n",
    "\n",
    "C = np.eye(4) # (p, n)\n",
    "\n",
    "\n",
    "n = 4\n",
    "x_init = np.array([0, 0, 0, 1])[:, None]\n",
    "\n",
    "x_init_sf = np.eye(n)\n",
    "x_init_sf_list = [x_init_sf[:, i][:, None] for i in range(n)]\n",
    "\n",
    "x_des = np.zeros((n, n))\n",
    "x_des_list = [x_des[:, i][:, None] for i in range(n)]\n",
    "\n",
    "# Linear state feedback control\n",
    "# should test on various initial conditions.\n",
    "usf = []\n",
    "for i in range(n):\n",
    "    _, _usf, _ = lqr(A, B, C, x_init_sf_list[i], x_des_list[i], T, rho)# Problem #4, fill in here.\n",
    "    usf.append(np.array(_usf)[..., None]) # (2, 1)\n",
    "\n",
    "usf = np.concatenate(usf, axis=-1)\n",
    "K = usf[0] # (m, n)\n",
    "# simulate over horizon 150\n",
    "\n",
    "T = 50\n",
    "usf2 = []\n",
    "for i in range(n):\n",
    "    _, _usf2, _ = lqr(A, B, C, x_init_sf_list[i], x_des_list[i], T, rho)# Problem #4, fill in here.\n",
    "    usf2.append(np.array(_usf2)[..., None]) # (2, 1)\n",
    "\n",
    "usf2 = np.concatenate(usf2, axis=-1)\n",
    "K2 = usf2[0] # (m, n)\n",
    "# simulate over horizon 150\n",
    "# You might need to run several times to get true\n",
    "print(\"----- Is K close to K2? -----\")\n",
    "print(np.allclose(K, K2))\n",
    "\n",
    "\n"
   ]
  },
  {
   "cell_type": "markdown",
   "metadata": {},
   "source": [
    "### Problem 17.6(d): Find state feedback gain matrix $K$, and verify that it is almost the same as the one obtained with $T=50$.\n",
    "\n",
    "condition:\n",
    "- $C = I$\n",
    "- $\\rho = 100$\n",
    "- $T = 100$\n",
    "- $\\mathbf{x}_1 = \\mathbf{e}_4 = [0, 0, 0, 1]^{\\top}$\n",
    "- $\\mathbf{x}^{\\mathrm{des}} = 0$\n",
    "\n",
    "### Plot the state and input variables over $t = 1, \\cdots, 120.$ (For $t = 100, \\cdots, 120$, the state and input variables are zero.)"
   ]
  },
  {
   "cell_type": "code",
   "execution_count": 22,
   "metadata": {},
   "outputs": [
    {
     "data": {
      "image/png": "[encoded data removed]",
      "text/plain": [
       "<Figure size 432x288 with 1 Axes>"
      ]
     },
     "metadata": {
      "needs_background": "light"
     },
     "output_type": "display_data"
    },
    {
     "data": {
      "image/png": "[encoded data removed]",
      "text/plain": [
       "<Figure size 432x288 with 1 Axes>"
      ]
     },
     "metadata": {
      "needs_background": "light"
     },
     "output_type": "display_data"
    }
   ],
   "source": [
    "\n",
    "TT = 120\n",
    "Xsf = np.hstack([x_init, np.zeros((n, TT - 1))])\n",
    "\n",
    "for k in range(TT - 1):\n",
    "    \n",
    "    Xsf[:, k + 1] = (A + B@K)@Xsf[:,k]\n",
    "usf = np.matmul(K, Xsf[:, 0:TT - 1])\n",
    "ysf = np.matmul(C, Xsf)\n",
    "\n",
    "#Plot the two outputs\n",
    "plt.ion()\n",
    "plt.title('state_variables')\n",
    "plt.plot(np.arange(TT), Xsf.T[:, 0], label='vel. along body axis') \n",
    "plt.plot(np.arange(TT), Xsf.T[:, 1], label='vel. perpend. body axis') \n",
    "plt.plot(np.arange(TT), Xsf.T[:, 2], label='ang. body axis above horizon.') \n",
    "plt.plot(np.arange(TT), Xsf.T[:, 3], label='pitch rate') \n",
    "plt.xlabel('t') \n",
    "plt.ylabel('x_t')\n",
    "plt.legend(loc='lower right')\n",
    "plt.show()\n",
    "\n",
    "plt.ion()\n",
    "plt.title('input_variables')\n",
    "plt.plot(np.arange(TT - 1), usf.T[:, 0], label='elevator angle')\n",
    "plt.plot(np.arange(TT - 1), usf.T[:, 1], label='engine thrust')\n",
    "plt.xlabel('t')\n",
    "plt.ylabel('u_t') \n",
    "plt.legend(loc='upper right')\n",
    "plt.show()"
   ]
  },
  {
   "cell_type": "code",
   "execution_count": null,
   "metadata": {},
   "outputs": [],
   "source": []
  },
  {
   "cell_type": "code",
   "execution_count": null,
   "metadata": {},
   "outputs": [],
   "source": []
  }
 ],
 "metadata": {
  "kernelspec": {
   "display_name": "Python 3",
   "language": "python",
   "name": "python3"
  },
  "language_info": {
   "codemirror_mode": {
    "name": "ipython",
    "version": 3
   },
   "file_extension": ".py",
   "mimetype": "text/x-python",
   "name": "python",
   "nbconvert_exporter": "python",
   "pygments_lexer": "ipython3",
   "version": "3.7.7"
  }
 },
 "nbformat": 4,
 "nbformat_minor": 4
}
