{
 "cells": [
  {
   "cell_type": "code",
   "execution_count": 43,
   "metadata": {},
   "outputs": [],
   "source": [
    "import numpy as np"
   ]
  },
  {
   "cell_type": "code",
   "execution_count": 44,
   "metadata": {},
   "outputs": [],
   "source": [
    "def qr_decompose(A):\n",
    "    # A is n x n matrix\n",
    "    # ------------ TODO -----------------------------\n",
    "    # you may not use numpy.linalg.qr function\n",
    "\n",
    "    # return Q, R\n",
    "    n, m = A.shape\n",
    "    Q = A.copy()\n",
    "    R = np.zeros((m, m))\n",
    "    \n",
    "    for i in range(m):\n",
    "        for j in range(i):\n",
    "            R[j][i] = np.sum(Q[:, i] * Q[:, j])\n",
    "            Q[:, i] -= Q[:, j] * R[j][i]\n",
    "        R[i][i] = np.linalg.norm(Q[:, i])\n",
    "        Q[:, i] = Q[:, i] / np.linalg.norm(Q[:, i])\n",
    "        \n",
    "    return Q, R"
   ]
  },
  {
   "cell_type": "code",
   "execution_count": 45,
   "metadata": {},
   "outputs": [],
   "source": [
    "def get_elliptic_mat(n):\n",
    "    # get a matrix\n",
    "    A = 2 * np.identity(n)\n",
    "    neg_ones = -np.identity(n - 1)\n",
    "    A[1: n, 0: n - 1] += neg_ones\n",
    "    A[0: n - 1, 1: n] += neg_ones\n",
    "    A = A / ((n + 1) ** 2)\n",
    "    return A\n",
    "\n",
    "def check_qr(Q, R, A):\n",
    "    # check if QR decomposition is done properly\n",
    "    if not np.allclose(Q @ R, A):\n",
    "        print('Q * R is \\n{}\\n, not A'.format(Q @ R))\n",
    "    elif not np.allclose(Q.T @ Q, np.eye(Q.shape[0])):\n",
    "        print('Q is not orthogonal')\n",
    "    elif not np.allclose(R, np.triu(R)):\n",
    "        print('R is not a upper triangular matrix')\n",
    "    else:\n",
    "        print('Correct!!!')\n",
    "        print('Q: {}'.format(Q))\n",
    "        print('R: {}'.format(R))"
   ]
  },
  {
   "cell_type": "code",
   "execution_count": 46,
   "metadata": {},
   "outputs": [
    {
     "name": "stdout",
     "output_type": "stream",
     "text": [
      "Correct!!!\n",
      "Q: [[ 0.89442719  0.35856858  0.19518001  0.12309149  0.13483997]\n",
      " [-0.4472136   0.71713717  0.39036003  0.24618298  0.26967994]\n",
      " [ 0.         -0.5976143   0.58554004  0.36927447  0.40451992]\n",
      " [ 0.          0.         -0.68313005  0.49236596  0.53935989]\n",
      " [ 0.          0.          0.         -0.73854895  0.67419986]]\n",
      "R: [[ 0.062113   -0.0496904   0.0124226   0.          0.        ]\n",
      " [ 0.          0.04648111 -0.05312127  0.0166004   0.        ]\n",
      " [ 0.          0.          0.0406625  -0.05421667  0.01897583]\n",
      " [ 0.          0.          0.          0.03761129 -0.05470733]\n",
      " [ 0.          0.          0.          0.          0.02247333]]\n"
     ]
    }
   ],
   "source": [
    "n = 5\n",
    "A = get_elliptic_mat(n)\n",
    "Q, R = qr_decompose(A)\n",
    "check_qr(Q, R, A)"
   ]
  },
  {
   "cell_type": "code",
   "execution_count": null,
   "metadata": {},
   "outputs": [],
   "source": []
  }
 ],
 "metadata": {
  "kernelspec": {
   "display_name": "Python 3",
   "language": "python",
   "name": "python3"
  },
  "language_info": {
   "codemirror_mode": {
    "name": "ipython",
    "version": 3
   },
   "file_extension": ".py",
   "mimetype": "text/x-python",
   "name": "python",
   "nbconvert_exporter": "python",
   "pygments_lexer": "ipython3",
   "version": "3.7.7"
  }
 },
 "nbformat": 4,
 "nbformat_minor": 4
}
